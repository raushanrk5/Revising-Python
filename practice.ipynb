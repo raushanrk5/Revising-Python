{
  "nbformat": 4,
  "nbformat_minor": 0,
  "metadata": {
    "colab": {
      "name": "practice.ipynb",
      "provenance": [],
      "authorship_tag": "ABX9TyMlb+9ZnNypll6yVNnj5B5J",
      "include_colab_link": true
    },
    "kernelspec": {
      "name": "python3",
      "display_name": "Python 3"
    },
    "language_info": {
      "name": "python"
    }
  },
  "cells": [
    {
      "cell_type": "markdown",
      "metadata": {
        "id": "view-in-github",
        "colab_type": "text"
      },
      "source": [
        "<a href=\"https://colab.research.google.com/github/raushanrk5/Revising-Python/blob/main/practice.ipynb\" target=\"_parent\"><img src=\"https://colab.research.google.com/assets/colab-badge.svg\" alt=\"Open In Colab\"/></a>"
      ]
    },
    {
      "cell_type": "code",
      "metadata": {
        "colab": {
          "base_uri": "https://localhost:8080/"
        },
        "id": "DQSd7uaXQOsw",
        "outputId": "af86b5d1-5298-450e-dd16-d76b190dbd82"
      },
      "source": [
        "numbers = [    \n",
        "    386, 462, 47, 418, 907, 344, 236, 375, 823, 566, 597, 978, 328, 615, 953, 345, \n",
        "    399, 162, 758, 219, 918, 237, 412, 566, 826, 248, 866, 950, 626, 949, 687, 217, \n",
        "    815, 67, 104, 58, 512, 24, 892, 894, 767, 553, 81, 379, 843, 831, 445, 742, 717, \n",
        "    958,743, 527\n",
        "    ]\n",
        "\n",
        "for i in numbers:\n",
        "    if i==237:\n",
        "      print(i)\n",
        "      break;\n",
        "    elif i%2 == 0:\n",
        "      print(i)  "
      ],
      "execution_count": null,
      "outputs": [
        {
          "output_type": "stream",
          "text": [
            "386\n",
            "462\n",
            "418\n",
            "344\n",
            "236\n",
            "566\n",
            "978\n",
            "328\n",
            "162\n",
            "758\n",
            "918\n",
            "237\n"
          ],
          "name": "stdout"
        }
      ]
    },
    {
      "cell_type": "code",
      "metadata": {
        "colab": {
          "base_uri": "https://localhost:8080/"
        },
        "id": "YMAy7zZLRleM",
        "outputId": "615c16d9-5c7b-4000-f0c3-f2f0e16f1f78"
      },
      "source": [
        "color_list_1 = set([\"White\", \"Black\", \"Red\"])\n",
        "color_list_2 = set([\"Red\", \"Green\"])\n",
        "print('colour in list1 but not in list2:',color_list_1.difference(color_list_2))"
      ],
      "execution_count": null,
      "outputs": [
        {
          "output_type": "stream",
          "text": [
            "colour in list1 but not in list2: {'Black', 'White'}\n"
          ],
          "name": "stdout"
        }
      ]
    },
    {
      "cell_type": "code",
      "metadata": {
        "colab": {
          "base_uri": "https://localhost:8080/"
        },
        "id": "lYEpnKfG4VMu",
        "outputId": "09a743b3-6992-42a2-f897-14803c84d8a7"
      },
      "source": [
        "#to geet gcd\n",
        "def gcd(x, y):\n",
        "   gcd = 1\n",
        "   if(x%y==0):\n",
        "     return y;\n",
        "   for i in range(int(y/2),0,-1):\n",
        "       if(x%i==0 and y%i==0):\n",
        "         gcd = i\n",
        "         break\n",
        "   return gcd \n",
        "\n",
        "    \n",
        "print(\"GCD of 12 & 17 =\",gcd(12, 17))\n",
        "print(\"GCD of 4 & 6 =\",gcd(4, 6))\n",
        "print(\"GCD of 336 & 360 =\",gcd(336, 360))"
      ],
      "execution_count": null,
      "outputs": [
        {
          "output_type": "stream",
          "text": [
            "GCD of 12 & 17 = 1\n",
            "GCD of 4 & 6 = 2\n",
            "GCD of 336 & 360 = 24\n"
          ],
          "name": "stdout"
        }
      ]
    },
    {
      "cell_type": "code",
      "metadata": {
        "colab": {
          "base_uri": "https://localhost:8080/"
        },
        "id": "IVEGZdGX6zfU",
        "outputId": "0d0c3d5f-56e6-4110-ffcc-32a480bc3130"
      },
      "source": [
        "#to get lcm\n",
        "def lcm(x, y):\n",
        "  if x>y:\n",
        "    z=x\n",
        "  else:\n",
        "    z=y\n",
        "\n",
        "  while(True):\n",
        "    if(z%x==0 and z%y==0):\n",
        "      lcm=z\n",
        "      break\n",
        "    z+=1\n",
        "\n",
        "  return lcm     \n",
        "\n",
        "\n",
        "\n",
        "print(lcm(4, 6))\n",
        "print(lcm(15, 17))"
      ],
      "execution_count": null,
      "outputs": [
        {
          "output_type": "stream",
          "text": [
            "12\n",
            "255\n"
          ],
          "name": "stdout"
        }
      ]
    },
    {
      "cell_type": "code",
      "metadata": {
        "colab": {
          "base_uri": "https://localhost:8080/"
        },
        "id": "Gx6cYd2W8kAB",
        "outputId": "9549bb7c-d11b-45ef-858f-6fc051af7fa0"
      },
      "source": [
        "#Python program to add two objects if both objects are an integer type.\n",
        "def add_numbers(a, b):\n",
        "   if not (isinstance(a,int) and isinstance(b,int)):\n",
        "     return ('Bot object should be integer')\n",
        "\n",
        "   return a+b  \n",
        "print(add_numbers(10, 20))\n",
        "print(add_numbers(10, 20.23))\n",
        "print(add_numbers('5', 6))\n",
        "print(add_numbers('5', '6'))"
      ],
      "execution_count": null,
      "outputs": [
        {
          "output_type": "stream",
          "text": [
            "30\n",
            "Bot object should be integer\n",
            "Bot object should be integer\n",
            "Bot object should be integer\n"
          ],
          "name": "stdout"
        }
      ]
    },
    {
      "cell_type": "code",
      "metadata": {
        "colab": {
          "base_uri": "https://localhost:8080/"
        },
        "id": "DZx9BS5A9YNi",
        "outputId": "c6ba61cc-1e3a-4ebe-987f-18c86203ccfa"
      },
      "source": [
        "#Python program to solve (x + y) * (x + y)\n",
        "x = 4 \n",
        "y=3\n",
        "res = (x+y)**2\n",
        "print(res)"
      ],
      "execution_count": null,
      "outputs": [
        {
          "output_type": "stream",
          "text": [
            "49\n"
          ],
          "name": "stdout"
        }
      ]
    },
    {
      "cell_type": "code",
      "metadata": {
        "colab": {
          "base_uri": "https://localhost:8080/"
        },
        "id": "613odZwKBM8o",
        "outputId": "910e3d18-0d3c-46cd-cdad-3e4a568e33f2"
      },
      "source": [
        "#Python program to compute the distance between the points (x1, y1) and (x2, y2).\n",
        "\n",
        "import math\n",
        "p1 = [4, 0]\n",
        "p2 = [6, 6]\n",
        "\n",
        "dist = math.sqrt((p1[0]-p2[0])**2+(p1[1]-p2[1])**2)\n",
        "print(dist)"
      ],
      "execution_count": null,
      "outputs": [
        {
          "output_type": "stream",
          "text": [
            "6.324555320336759\n"
          ],
          "name": "stdout"
        }
      ]
    },
    {
      "cell_type": "code",
      "metadata": {
        "id": "L55qbiTuD5Ar"
      },
      "source": [
        "#Python program to check whether a file exists.\n",
        "import os\n",
        "print(os.path.isfile(file_name))\n",
        "print(os.path.exists(file_name))"
      ],
      "execution_count": null,
      "outputs": []
    },
    {
      "cell_type": "code",
      "metadata": {
        "colab": {
          "base_uri": "https://localhost:8080/"
        },
        "id": "NllHXg2jEKcz",
        "outputId": "6125c7fa-1add-4f08-b4a0-89dc2781037e"
      },
      "source": [
        "import site; \n",
        "print(site.getsitepackages())\n",
        "import platform\n",
        "import os\n",
        "print(\"Name of the operating system:\",os.name)\n",
        "print(\"\\nName of the OS system:\",platform.system())\n",
        "print(\"\\nVersion of the operating system:\",platform.release())\n",
        "#no.. of cpu using\n",
        "\n",
        "import multiprocessing\n",
        "print(multiprocessing.cpu_count())\n",
        "\n",
        "import os\n",
        "# Access all environment variables \n",
        "print('*----------------------------------*')\n",
        "print(os.environ)\n",
        "print('*----------------------------------*')\n",
        "# Access a particular environment variable \n",
        "print(os.environ['HOME'])\n",
        "print('*----------------------------------*')\n",
        "print(os.environ['PATH'])\n",
        "print('*----------------------------------*')"
      ],
      "execution_count": null,
      "outputs": [
        {
          "output_type": "stream",
          "text": [
            "['/usr/local/lib/python3.7/dist-packages', '/usr/lib/python3/dist-packages', '/usr/lib/python3.7/dist-packages']\n",
            "Name of the operating system: posix\n",
            "\n",
            "Name of the OS system: Linux\n",
            "\n",
            "Version of the operating system: 5.4.104+\n",
            "2\n",
            "*----------------------------------*\n",
            "environ({'NO_GCE_CHECK': 'True', 'GCS_READ_CACHE_BLOCK_SIZE_MB': '16', 'CLOUDSDK_CONFIG': '/content/.config', 'CUDA_VERSION': '11.0.3', 'PATH': '/usr/local/nvidia/bin:/usr/local/cuda/bin:/usr/local/sbin:/usr/local/bin:/usr/sbin:/usr/bin:/sbin:/bin:/tools/node/bin:/tools/google-cloud-sdk/bin:/opt/bin', 'HOME': '/root', 'LD_LIBRARY_PATH': '/usr/local/nvidia/lib:/usr/local/nvidia/lib64', 'LANG': 'en_US.UTF-8', 'SHELL': '/bin/bash', 'LIBRARY_PATH': '/usr/local/cuda/lib64/stubs', 'SHLVL': '0', 'GCE_METADATA_TIMEOUT': '0', 'NCCL_VERSION': '2.7.8', 'NVIDIA_VISIBLE_DEVICES': 'all', 'DEBIAN_FRONTEND': 'noninteractive', 'CUDNN_VERSION': '8.0.4.30', 'LAST_FORCED_REBUILD': '20210714', 'JPY_PARENT_PID': '49', 'PYTHONPATH': '/env/python', 'DATALAB_SETTINGS_OVERRIDES': '{\"kernelManagerProxyPort\":6000,\"kernelManagerProxyHost\":\"172.28.0.3\",\"jupyterArgs\":[\"--ip=\\\\\"172.28.0.2\\\\\"\"],\"debugAdapterMultiplexerPath\":\"/usr/local/bin/dap_multiplexer\",\"enableLsp\":true}', 'ENV': '/root/.bashrc', 'GLIBCXX_FORCE_NEW': '1', 'NVIDIA_DRIVER_CAPABILITIES': 'compute,utility', 'TF_FORCE_GPU_ALLOW_GROWTH': 'true', 'LD_PRELOAD': '/usr/lib/x86_64-linux-gnu/libtcmalloc.so.4', 'NVIDIA_REQUIRE_CUDA': 'cuda>=11.0 brand=tesla,driver>=418,driver<419 brand=tesla,driver>=440,driver<441 brand=tesla,driver>=450,driver<451', 'OLDPWD': '/', 'HOSTNAME': 'f5952c422fa0', 'COLAB_GPU': '0', 'PWD': '/', 'CLOUDSDK_PYTHON': 'python3', 'GLIBCPP_FORCE_NEW': '1', 'PYTHONWARNINGS': 'ignore:::pip._internal.cli.base_command', 'TBE_CREDS_ADDR': '172.28.0.1:8008', 'TERM': 'xterm-color', 'CLICOLOR': '1', 'PAGER': 'cat', 'GIT_PAGER': 'cat', 'MPLBACKEND': 'module://ipykernel.pylab.backend_inline', 'PYDEVD_USE_FRAME_EVAL': 'NO'})\n",
            "*----------------------------------*\n",
            "/root\n",
            "*----------------------------------*\n",
            "/usr/local/nvidia/bin:/usr/local/cuda/bin:/usr/local/sbin:/usr/local/bin:/usr/sbin:/usr/bin:/sbin:/bin:/tools/node/bin:/tools/google-cloud-sdk/bin:/opt/bin\n",
            "*----------------------------------*\n"
          ],
          "name": "stdout"
        }
      ]
    },
    {
      "cell_type": "code",
      "metadata": {
        "colab": {
          "base_uri": "https://localhost:8080/"
        },
        "id": "kcKbCykEV3Qs",
        "outputId": "b5d8d1b6-4a62-44f2-9c19-888fdf0b0a0d"
      },
      "source": [
        "#sum of digits\n",
        "def sumofdigits(n):\n",
        "  sum =0;\n",
        "  rem=0;\n",
        "  while(n>0):\n",
        "    rem=n%10\n",
        "    sum+=rem\n",
        "    n//=10\n",
        "  return sum\n",
        "\n",
        "sumofdigits(567)\n"
      ],
      "execution_count": null,
      "outputs": [
        {
          "output_type": "execute_result",
          "data": {
            "text/plain": [
              "18"
            ]
          },
          "metadata": {
            "tags": []
          },
          "execution_count": 26
        }
      ]
    },
    {
      "cell_type": "code",
      "metadata": {
        "colab": {
          "base_uri": "https://localhost:8080/"
        },
        "id": "EU1NDtmqWxCl",
        "outputId": "9af46982-aaed-450f-c5a2-14f95b58e8fa"
      },
      "source": [
        "#Python program to sort three integers without using conditional statements and loops.\n",
        "x = int(input(\"Input first number: \"))\n",
        "y = int(input(\"Input second number: \"))\n",
        "z = int(input(\"Input third number: \"))\n",
        "\n",
        "a1 = min(x,y,z)\n",
        "a3 = max(x,y,z)\n",
        "a2 = (x+y+z)-a1-a3\n",
        "\n",
        "print('sorted order:',a1,a2,a3)"
      ],
      "execution_count": null,
      "outputs": [
        {
          "output_type": "stream",
          "text": [
            "Input first number: 5\n",
            "Input second number: 7\n",
            "Input third number: 9\n",
            "sorted order: 5 7 9\n"
          ],
          "name": "stdout"
        }
      ]
    },
    {
      "cell_type": "code",
      "metadata": {
        "colab": {
          "base_uri": "https://localhost:8080/"
        },
        "id": "KaNNz0xMXOHo",
        "outputId": "014cb9a1-981b-4052-db2d-c5dbd846e5b4"
      },
      "source": [
        "#Python program to sort files by date.\n",
        "\n",
        "import glob\n",
        "import os\n",
        "\n",
        "files = glob.glob(\"*.txt\")\n",
        "files.sort(key=os.path.getmtime)\n",
        "print(\"\\n\".join(files))"
      ],
      "execution_count": null,
      "outputs": [
        {
          "output_type": "stream",
          "text": [
            "\n"
          ],
          "name": "stdout"
        }
      ]
    },
    {
      "cell_type": "code",
      "metadata": {
        "colab": {
          "base_uri": "https://localhost:8080/"
        },
        "id": "AIoTczBTng0S",
        "outputId": "d6be5f95-4cfd-4fe5-96fd-af3a40a607f9"
      },
      "source": [
        "#to print copyright info\n",
        "import sys\n",
        "print(\"\\nPython Copyright Information\")\n",
        "print(sys.copyright)\n",
        "print()\n",
        "\n",
        "print(\"Current value of the recursion limit:\")\n",
        "print(sys.getrecursionlimit())"
      ],
      "execution_count": null,
      "outputs": [
        {
          "output_type": "stream",
          "text": [
            "\n",
            "Python Copyright Information\n",
            "Copyright (c) 2001-2021 Python Software Foundation.\n",
            "All Rights Reserved.\n",
            "\n",
            "Copyright (c) 2000 BeOpen.com.\n",
            "All Rights Reserved.\n",
            "\n",
            "Copyright (c) 1995-2001 Corporation for National Research Initiatives.\n",
            "All Rights Reserved.\n",
            "\n",
            "Copyright (c) 1991-1995 Stichting Mathematisch Centrum, Amsterdam.\n",
            "All Rights Reserved.\n",
            "\n",
            "Current value of the recursion limit:\n",
            "1000\n"
          ],
          "name": "stdout"
        }
      ]
    },
    {
      "cell_type": "code",
      "metadata": {
        "colab": {
          "base_uri": "https://localhost:8080/"
        },
        "id": "g4n1Ko2FoQ10",
        "outputId": "947210d0-fe8f-4599-a076-6f77440a7e10"
      },
      "source": [
        "#to concatenate n strings\n",
        "list_of_colors = ['Red', 'White', 'Black'] \n",
        "colors = '-'.join(list_of_colors)\n",
        "print(colors)"
      ],
      "execution_count": null,
      "outputs": [
        {
          "output_type": "stream",
          "text": [
            "Red-White-Black\n"
          ],
          "name": "stdout"
        }
      ]
    },
    {
      "cell_type": "code",
      "metadata": {
        "colab": {
          "base_uri": "https://localhost:8080/"
        },
        "id": "b5T7qNcBqMQx",
        "outputId": "964077c0-3f41-4f7a-b3b6-b6ccfa671515"
      },
      "source": [
        "#to get ascill value\n",
        "print(ord('f'))\n",
        "print(ord('F'))"
      ],
      "execution_count": null,
      "outputs": [
        {
          "output_type": "stream",
          "text": [
            "102\n",
            "70\n"
          ],
          "name": "stdout"
        }
      ]
    },
    {
      "cell_type": "code",
      "metadata": {
        "colab": {
          "base_uri": "https://localhost:8080/"
        },
        "id": "cLHDwHeGseoU",
        "outputId": "38adb577-8189-4d59-a282-7ae70d5b1f51"
      },
      "source": [
        "#to swap 2 v_ble\n",
        "a = 5\n",
        "b = 7\n",
        "print('before swapping, a= %d, b= %d' %(a,b))\n",
        "b,a = a,b\n",
        "print('after swapping, a= %d, b= %d' %(a,b))"
      ],
      "execution_count": null,
      "outputs": [
        {
          "output_type": "stream",
          "text": [
            "before swapping, a= 5, b= 7\n",
            "after swapping, a= 7, b= 5\n"
          ],
          "name": "stdout"
        }
      ]
    },
    {
      "cell_type": "code",
      "metadata": {
        "colab": {
          "base_uri": "https://localhost:8080/"
        },
        "id": "_TQkDh4wuWeE",
        "outputId": "c1d95d3a-8f59-48a2-c4ed-24818d768469"
      },
      "source": [
        "#Python program to get the Identity, Type, and Value of an object.\n",
        "x = 34\n",
        "print(\"\\nIdentity: \",id(x))\n",
        "print(\"\\nType: \",type(x))\n",
        "print(\"\\nValue: \",x)"
      ],
      "execution_count": null,
      "outputs": [
        {
          "output_type": "stream",
          "text": [
            "\n",
            "Identity:  94021111041568\n",
            "\n",
            "Type:  <class 'int'>\n",
            "\n",
            "Value:  34\n"
          ],
          "name": "stdout"
        }
      ]
    },
    {
      "cell_type": "code",
      "metadata": {
        "colab": {
          "base_uri": "https://localhost:8080/"
        },
        "id": "KMxI0fXUu4v-",
        "outputId": "8781ed6b-dd42-4b3d-f662-393e11c64d99"
      },
      "source": [
        "#Python program to clear the screen or terminal.\n",
        "import os\n",
        "import time\n",
        "# for windows\n",
        "# os.system('cls')\n",
        "os.system(\"ls\")\n",
        "time.sleep(2)\n",
        "# Ubuntu version 10.10\n",
        "os.system('clear')"
      ],
      "execution_count": null,
      "outputs": [
        {
          "output_type": "execute_result",
          "data": {
            "text/plain": [
              "0"
            ]
          },
          "metadata": {
            "tags": []
          },
          "execution_count": 12
        }
      ]
    },
    {
      "cell_type": "code",
      "metadata": {
        "colab": {
          "base_uri": "https://localhost:8080/"
        },
        "id": "9I06OPF6vNhv",
        "outputId": "ded5a49b-6c17-4d26-ea3c-9673309c2de1"
      },
      "source": [
        "#Python program to access and print a URL's content to the console.\n",
        "\n",
        "from http.client import HTTPConnection\n",
        "conn = HTTPConnection(\"example.com\")\n",
        "conn.request(\"GET\", \"/\")  \n",
        "result = conn.getresponse()\n",
        "# retrieves the entire contents.  \n",
        "contents = result.read() \n",
        "print(contents)"
      ],
      "execution_count": null,
      "outputs": [
        {
          "output_type": "stream",
          "text": [
            "b'<!doctype html>\\n<html>\\n<head>\\n    <title>Example Domain</title>\\n\\n    <meta charset=\"utf-8\" />\\n    <meta http-equiv=\"Content-type\" content=\"text/html; charset=utf-8\" />\\n    <meta name=\"viewport\" content=\"width=device-width, initial-scale=1\" />\\n    <style type=\"text/css\">\\n    body {\\n        background-color: #f0f0f2;\\n        margin: 0;\\n        padding: 0;\\n        font-family: -apple-system, system-ui, BlinkMacSystemFont, \"Segoe UI\", \"Open Sans\", \"Helvetica Neue\", Helvetica, Arial, sans-serif;\\n        \\n    }\\n    div {\\n        width: 600px;\\n        margin: 5em auto;\\n        padding: 2em;\\n        background-color: #fdfdff;\\n        border-radius: 0.5em;\\n        box-shadow: 2px 3px 7px 2px rgba(0,0,0,0.02);\\n    }\\n    a:link, a:visited {\\n        color: #38488f;\\n        text-decoration: none;\\n    }\\n    @media (max-width: 700px) {\\n        div {\\n            margin: 0 auto;\\n            width: auto;\\n        }\\n    }\\n    </style>    \\n</head>\\n\\n<body>\\n<div>\\n    <h1>Example Domain</h1>\\n    <p>This domain is for use in illustrative examples in documents. You may use this\\n    domain in literature without prior coordination or asking for permission.</p>\\n    <p><a href=\"https://www.iana.org/domains/example\">More information...</a></p>\\n</div>\\n</body>\\n</html>\\n'\n"
          ],
          "name": "stdout"
        }
      ]
    },
    {
      "cell_type": "code",
      "metadata": {
        "id": "OijHhtYHwgu0"
      },
      "source": [
        "#Write a Python program to filter the positive numbers from a list.\n",
        "nums = [34, 1, 0, -23, 12, -88]\n",
        "print(\"Original numbers in the list: \",nums)\n",
        "new_nums = list(filter(lambda x: x >0, nums))\n",
        "print(\"Positive numbers in the said list: \",new_nums)"
      ],
      "execution_count": 26,
      "outputs": []
    },
    {
      "cell_type": "code",
      "metadata": {
        "id": "dyqD_jhv5CWZ"
      },
      "source": [
        "#Write a Python program to filter the positive numbers from a list.\n",
        "nums = [34, 1, 0, -23, 12, -88]\n",
        "print(\"Original numbers in the list: \",nums)\n",
        "new_nums = list(filter(lambda x: x >0, nums))\n",
        "print(\"Positive numbers in the said list: \",new_nums)"
      ],
      "execution_count": 27,
      "outputs": []
    },
    {
      "cell_type": "code",
      "metadata": {
        "colab": {
          "base_uri": "https://localhost:8080/"
        },
        "id": "LauBP7oX8pA7",
        "outputId": "bec61d35-347f-4664-da34-b86bc5e04ca9"
      },
      "source": [
        "from functools import reduce\n",
        "nums = [10, 20, 30,]\n",
        "print(\"Original list numbers:\")\n",
        "print(nums)\n",
        "\n",
        "num_pdt = reduce(lambda x,y:x*y, nums)\n",
        "print(num_pdt)"
      ],
      "execution_count": 29,
      "outputs": [
        {
          "output_type": "stream",
          "text": [
            "Original list numbers:\n",
            "[10, 20, 30]\n",
            "6000\n"
          ],
          "name": "stdout"
        }
      ]
    },
    {
      "cell_type": "code",
      "metadata": {
        "colab": {
          "base_uri": "https://localhost:8080/"
        },
        "id": "6HA9ROCwOGUS",
        "outputId": "9a31ec8d-c1e6-4276-f5ce-f5d3a36846ce"
      },
      "source": [
        "#Python program to prove that two string variables of same value point same memory location.\n",
        "\n",
        "str1 = \"Python\"\n",
        "str2 = \"Python\"\n",
        " \n",
        "print(\"\\nMemory location of str1 =\", hex(id(str1)))\n",
        "print(\"Memory location of str2 =\", hex(id(str2)))\n",
        "print()"
      ],
      "execution_count": 32,
      "outputs": [
        {
          "output_type": "stream",
          "text": [
            "\n",
            "Memory location of str1 = 0x7f310274c2b0\n",
            "Memory location of str2 = 0x7f310274c2b0\n",
            "\n"
          ],
          "name": "stdout"
        }
      ]
    },
    {
      "cell_type": "code",
      "metadata": {
        "colab": {
          "base_uri": "https://localhost:8080/"
        },
        "id": "ToVOTuxrOwXS",
        "outputId": "80f54834-341e-45d7-b411-c1846fd52be3"
      },
      "source": [
        "#Python program to round a floating-point number to specified number decimal places.\n",
        "\n",
        "#Round to specified Decimals using %f Function:\n",
        "\n",
        "order_amt = 212.374\n",
        "print('rounding to one digit: %.1f' %order_amt)\n",
        "print('rounding to two digit: %.2f' %order_amt)\n"
      ],
      "execution_count": 35,
      "outputs": [
        {
          "output_type": "stream",
          "text": [
            "rounding to one digit: 212.4\n",
            "rounding to two digit: 212.37\n"
          ],
          "name": "stdout"
        }
      ]
    },
    {
      "cell_type": "code",
      "metadata": {
        "colab": {
          "base_uri": "https://localhost:8080/"
        },
        "id": "N5gmQHtCPuLG",
        "outputId": "4fd12518-d087-4df2-c66a-4f46baaa2384"
      },
      "source": [
        "#Python program to format a specified string limiting the length of a string.\n",
        "\n",
        "str_num = \"1234567890\"\n",
        "print(\"Original string:\",str_num)\n",
        "print(\"limiting to 4 char: %.4s\" %str_num)\n",
        "print(\"limiting to 2 char: %.2s\" %str_num)\n",
        "print(\"limiting to 6 char: %.6s\" %str_num)\n",
        "print(\"limiting to 12 char: %.12s\" %str_num)"
      ],
      "execution_count": 40,
      "outputs": [
        {
          "output_type": "stream",
          "text": [
            "Original string: 1234567890\n",
            "limiting to 4 char: 1234\n",
            "limiting to 2 char: 12\n",
            "limiting to 6 char: 123456\n",
            "limiting to 12 char: 1234567890\n"
          ],
          "name": "stdout"
        }
      ]
    },
    {
      "cell_type": "code",
      "metadata": {
        "id": "MGyUBeclQbzn"
      },
      "source": [
        "Python program to empty a variable without destroying it.\n",
        "\n",
        "type() returns the type of an object, which when called produces an 'empty' new value.\n",
        "\n",
        "Sample data: n=20\n",
        "d = {\"x\":200}\n",
        "Expected Output: 0\n",
        "{}\n",
        "print(type(n)())"
      ],
      "execution_count": null,
      "outputs": []
    },
    {
      "cell_type": "code",
      "metadata": {
        "colab": {
          "base_uri": "https://localhost:8080/"
        },
        "id": "fSEis2uWSDJw",
        "outputId": "b6dc6a55-f25e-4aa8-abcd-6a637690c562"
      },
      "source": [
        "#to check for lowercase letter\n",
        "str1 = 'A8238i823acdeOUEI'\n",
        "print(any(c.islower() for c in str1))"
      ],
      "execution_count": 41,
      "outputs": [
        {
          "output_type": "stream",
          "text": [
            "True\n"
          ],
          "name": "stdout"
        }
      ]
    },
    {
      "cell_type": "code",
      "metadata": {
        "colab": {
          "base_uri": "https://localhost:8080/"
        },
        "id": "PiALDWP1SB-J",
        "outputId": "4510492a-941b-4702-cb0e-2edde702a153"
      },
      "source": [
        "#to add leading zeroes to a string\n",
        "str1='122.22'\n",
        "print(\"Original String: \",str1)\n",
        "print(\"\\nAdded trailing zeros:\")\n",
        "str1 = str1.ljust(8, '0')\n",
        "print(str1)\n",
        "str1 = str1.ljust(10, '0')\n",
        "print(str1)\n",
        "print(\"\\nAdded leading zeros:\")\n",
        "str1='122.22'\n",
        "str1 = str1.rjust(8, '0')\n",
        "print(str1)\n",
        "str1 = str1.rjust(10, '0')\n",
        "print(str1)"
      ],
      "execution_count": 42,
      "outputs": [
        {
          "output_type": "stream",
          "text": [
            "Original String:  122.22\n",
            "\n",
            "Added trailing zeros:\n",
            "122.2200\n",
            "122.220000\n",
            "\n",
            "Added leading zeros:\n",
            "00122.22\n",
            "0000122.22\n"
          ],
          "name": "stdout"
        }
      ]
    },
    {
      "cell_type": "code",
      "metadata": {
        "colab": {
          "base_uri": "https://localhost:8080/"
        },
        "id": "h0Y41RE6aXQK",
        "outputId": "c3133b64-19e9-4f9e-a9ae-978c7a4b7785"
      },
      "source": [
        "num = input('num: ')\n",
        "x,y = num.split(' ')\n",
        "print(x,y)"
      ],
      "execution_count": 43,
      "outputs": [
        {
          "output_type": "stream",
          "text": [
            "num20 34\n",
            "20 34\n"
          ],
          "name": "stdout"
        }
      ]
    },
    {
      "cell_type": "code",
      "metadata": {
        "colab": {
          "base_uri": "https://localhost:8080/"
        },
        "id": "IGB5jLmieOxf",
        "outputId": "3e6500b7-9136-4d2d-de34-30ea5f0d0270"
      },
      "source": [
        "#Python function to check whether a number is divisible by another number. Accept two integers values form the user.\n",
        "\n",
        "def multiple(m, n):\n",
        "\treturn True if m % n == 0 else False  #unique return statement writing\n",
        "\n",
        "print(multiple(20, 5))\n",
        "print(multiple(7, 2))"
      ],
      "execution_count": 44,
      "outputs": [
        {
          "output_type": "stream",
          "text": [
            "True\n",
            "False\n"
          ],
          "name": "stdout"
        }
      ]
    }
  ]
}