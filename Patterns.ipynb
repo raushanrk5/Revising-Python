{
  "nbformat": 4,
  "nbformat_minor": 0,
  "metadata": {
    "colab": {
      "name": "Patterns.ipynb",
      "provenance": [],
      "toc_visible": true,
      "authorship_tag": "ABX9TyOA9nic/sC+rnG/t6U9U5fJ",
      "include_colab_link": true
    },
    "kernelspec": {
      "name": "python3",
      "display_name": "Python 3"
    },
    "language_info": {
      "name": "python"
    }
  },
  "cells": [
    {
      "cell_type": "markdown",
      "metadata": {
        "id": "view-in-github",
        "colab_type": "text"
      },
      "source": [
        "<a href=\"https://colab.research.google.com/github/raushanrk5/Revising-Python/blob/main/Patterns.ipynb\" target=\"_parent\"><img src=\"https://colab.research.google.com/assets/colab-badge.svg\" alt=\"Open In Colab\"/></a>"
      ]
    },
    {
      "cell_type": "markdown",
      "metadata": {
        "id": "i9HGAhLa8UUp"
      },
      "source": [
        "# **Patterns in Python**"
      ]
    },
    {
      "cell_type": "markdown",
      "metadata": {
        "id": "r0lZiuYt8y5v"
      },
      "source": [
        "## **Simple half Pyramid Pattern**"
      ]
    },
    {
      "cell_type": "code",
      "metadata": {
        "colab": {
          "base_uri": "https://localhost:8080/"
        },
        "id": "NDIJ5i6l8Qiq",
        "outputId": "2b8448a6-671f-4b69-93d1-511b54f62009"
      },
      "source": [
        "size = int(input('Enter size of the pattern: '))\n",
        "for i in range(0,size):\n",
        "  for j in range(0,i+1):\n",
        "    print('*', end=\" \")\n",
        "  print()\n"
      ],
      "execution_count": null,
      "outputs": [
        {
          "output_type": "stream",
          "text": [
            "Enter size of the pattern: 5\n",
            "* \n",
            "* * \n",
            "* * * \n",
            "* * * * \n",
            "* * * * * \n"
          ],
          "name": "stdout"
        }
      ]
    },
    {
      "cell_type": "markdown",
      "metadata": {
        "id": "meJp_Qys--V-"
      },
      "source": [
        "## **Simple downward half Pyramid Pattern**"
      ]
    },
    {
      "cell_type": "code",
      "metadata": {
        "colab": {
          "base_uri": "https://localhost:8080/"
        },
        "id": "6q1HTLRD_LuL",
        "outputId": "c911ca57-b9e5-4456-cfa2-af258192dad2"
      },
      "source": [
        "size = int(input('Enter size of the pattern: '))\n",
        "for i in range(size,0,-1):\n",
        "  for j in range(0,i):\n",
        "    print('*', end=\" \")\n",
        "  print()"
      ],
      "execution_count": null,
      "outputs": [
        {
          "output_type": "stream",
          "text": [
            "Enter size of the pattern: 5\n",
            "* * * * * \n",
            "* * * * \n",
            "* * * \n",
            "* * \n",
            "* \n"
          ],
          "name": "stdout"
        }
      ]
    },
    {
      "cell_type": "markdown",
      "metadata": {
        "id": "_u8xAFEOB_cc"
      },
      "source": [
        "## **Attaching upward and downward half Pyramid Pattern**"
      ]
    },
    {
      "cell_type": "code",
      "metadata": {
        "colab": {
          "base_uri": "https://localhost:8080/"
        },
        "id": "G7rCOPXECHIY",
        "outputId": "84422cfb-f010-4902-ca8a-7024f576f540"
      },
      "source": [
        "size = int(input('Enter size of the pattern: '))\n",
        "for i in range(1,size):\n",
        "  for j in range(0,i):\n",
        "    print('*', end=\" \")\n",
        "  print()\n",
        "for i in range(size,0,-1):\n",
        "  for j in range(0,i):\n",
        "    print('*', end=\" \")\n",
        "  print()"
      ],
      "execution_count": null,
      "outputs": [
        {
          "output_type": "stream",
          "text": [
            "Enter size of the pattern: 5\n",
            "* \n",
            "* * \n",
            "* * * \n",
            "* * * * \n",
            "* * * * * \n",
            "* * * * \n",
            "* * * \n",
            "* * \n",
            "* \n"
          ],
          "name": "stdout"
        }
      ]
    },
    {
      "cell_type": "markdown",
      "metadata": {
        "id": "XceJMXVozdA3"
      },
      "source": [
        "## **Simple right-sided half Pyramid Pattern**"
      ]
    },
    {
      "cell_type": "code",
      "metadata": {
        "colab": {
          "base_uri": "https://localhost:8080/"
        },
        "id": "9mJ-f1hlziII",
        "outputId": "566c0bab-b762-459a-fee1-6ac678545200"
      },
      "source": [
        "size = int(input('Enter size of the pattern: '))\n",
        "for i in range(0,size):\n",
        "  for j in range(0,size-i):\n",
        "    print(\" \", end=\" \")\n",
        "  for k in range(0,i+1):\n",
        "    print('*', end=\" \")\n",
        "  print()"
      ],
      "execution_count": null,
      "outputs": [
        {
          "output_type": "stream",
          "text": [
            "Enter size of the pattern: 5\n",
            "          * \n",
            "        * * \n",
            "      * * * \n",
            "    * * * * \n",
            "  * * * * * \n"
          ],
          "name": "stdout"
        }
      ]
    },
    {
      "cell_type": "markdown",
      "metadata": {
        "id": "p3bGZqQL07w2"
      },
      "source": [
        "## **Reverse right-sided half Pyramid Pattern**"
      ]
    },
    {
      "cell_type": "code",
      "metadata": {
        "colab": {
          "base_uri": "https://localhost:8080/"
        },
        "id": "GW18YwZ41BY6",
        "outputId": "87f5b162-f7c4-4c01-cb78-4b117922c017"
      },
      "source": [
        "size = int(input('Enter size of the pattern: '))\n",
        "for i in range(size,0,-1):\n",
        "  for j in range(0,size-i+1):\n",
        "    print(\" \", end=\" \")\n",
        "  for k in range(0,i):\n",
        "    print('*', end=\" \")\n",
        "  print()"
      ],
      "execution_count": null,
      "outputs": [
        {
          "output_type": "stream",
          "text": [
            "Enter size of the pattern: 5\n",
            "  * * * * * \n",
            "    * * * * \n",
            "      * * * \n",
            "        * * \n",
            "          * \n"
          ],
          "name": "stdout"
        }
      ]
    },
    {
      "cell_type": "markdown",
      "metadata": {
        "id": "aAKX3LSa2tly"
      },
      "source": [
        "## **Connecting Simple & Reverse right-sided half Pyramid Pattern**"
      ]
    },
    {
      "cell_type": "code",
      "metadata": {
        "colab": {
          "base_uri": "https://localhost:8080/"
        },
        "id": "1zYZBouZ2uKr",
        "outputId": "e098037e-c2c2-4f5f-cbe8-01cff73ea3b5"
      },
      "source": [
        "size = int(input('Enter size of the pattern: '))\n",
        "for i in range(1,size):\n",
        "  for j in range(0,size-i):\n",
        "    print(\" \", end=\" \")\n",
        "  for k in range(0,i):\n",
        "    print('*', end=\" \")\n",
        "  print()\n",
        "\n",
        "for i in range(size,0,-1):\n",
        "  for j in range(0, size-i):\n",
        "    print(\" \", end=\" \")\n",
        "  for k in range(0,i):\n",
        "    print('*', end=\" \")\n",
        "  print()"
      ],
      "execution_count": null,
      "outputs": [
        {
          "output_type": "stream",
          "text": [
            "Enter size of the pattern: 5\n",
            "        * \n",
            "      * * \n",
            "    * * * \n",
            "  * * * * \n",
            "* * * * * \n",
            "  * * * * \n",
            "    * * * \n",
            "      * * \n",
            "        * \n"
          ],
          "name": "stdout"
        }
      ]
    },
    {
      "cell_type": "markdown",
      "metadata": {
        "id": "hTjv50wZ_jt-"
      },
      "source": [
        "## **Simple Full Pyramid Pattern**"
      ]
    },
    {
      "cell_type": "code",
      "metadata": {
        "colab": {
          "base_uri": "https://localhost:8080/"
        },
        "id": "1JM6xWqm_vry",
        "outputId": "78455549-a271-4839-9457-45f86202e59d"
      },
      "source": [
        "size = int(input('Enter size of the pattern: '))\n",
        "for i in range(1,size+1):\n",
        "  for j in range(0,size-i+1):\n",
        "    print(\" \", end=\" \")\n",
        "  for k in range(0,2*i-1):\n",
        "    print('*', end=\" \")\n",
        "  print()"
      ],
      "execution_count": null,
      "outputs": [
        {
          "output_type": "stream",
          "text": [
            "Enter size of the pattern: 5\n",
            "          * \n",
            "        * * * \n",
            "      * * * * * \n",
            "    * * * * * * * \n",
            "  * * * * * * * * * \n"
          ],
          "name": "stdout"
        }
      ]
    },
    {
      "cell_type": "markdown",
      "metadata": {
        "id": "bROnes4jDuSc"
      },
      "source": [
        "## **Reverse Full Pyramid Pattern**"
      ]
    },
    {
      "cell_type": "code",
      "metadata": {
        "colab": {
          "base_uri": "https://localhost:8080/"
        },
        "id": "k7eUSxE_DxFK",
        "outputId": "c8297a5f-32c8-44a6-fa54-0e63ddd584a5"
      },
      "source": [
        "size = int(input('Enter size of the pattern: '))\n",
        "for i in range(size,0, -1):\n",
        "  for j in range(0,size-i):\n",
        "    print(\" \", end=\" \")\n",
        "  for k in range(0,2*i-1):\n",
        "    print('*', end=\" \")\n",
        "  print()\n",
        "\n"
      ],
      "execution_count": null,
      "outputs": [
        {
          "output_type": "stream",
          "text": [
            "Enter size of the pattern: 5\n",
            "* * * * * * * * * \n",
            "  * * * * * * * \n",
            "    * * * * * \n",
            "      * * * \n",
            "        * \n"
          ],
          "name": "stdout"
        }
      ]
    },
    {
      "cell_type": "markdown",
      "metadata": {
        "id": "5w-YYKzykLs2"
      },
      "source": [
        "## **Attaching upward and downward full Pyramid Pattern**"
      ]
    },
    {
      "cell_type": "code",
      "metadata": {
        "colab": {
          "base_uri": "https://localhost:8080/"
        },
        "id": "mG9KNX-zkPde",
        "outputId": "dbc9c822-9fb3-4ef8-b200-b9dd1f7707c5"
      },
      "source": [
        "size = int(input('Enter size of the pattern: '))\n",
        "for i in range(1,size):\n",
        "  for j in range(size-i):\n",
        "    print(\" \", end=\" \")\n",
        "  for k in range(0,2*i-1):\n",
        "    print('*', end=\" \")\n",
        "  print()\n",
        "\n",
        "for i in range(size,0,-1):\n",
        "  for j in range( size-i ):\n",
        "    print(\" \", end=\" \")\n",
        "  for k in range(0,2*i-1):\n",
        "    print('*', end=\" \")\n",
        "  print()"
      ],
      "execution_count": null,
      "outputs": [
        {
          "output_type": "stream",
          "text": [
            "Enter size of the pattern: 5\n",
            "        * \n",
            "      * * * \n",
            "    * * * * * \n",
            "  * * * * * * * \n",
            "* * * * * * * * * \n",
            "  * * * * * * * \n",
            "    * * * * * \n",
            "      * * * \n",
            "        * \n"
          ],
          "name": "stdout"
        }
      ]
    },
    {
      "cell_type": "markdown",
      "metadata": {
        "id": "X1Y6z6C3qTHt"
      },
      "source": [
        "## **Simple Triangle Pyramid Pattern**"
      ]
    },
    {
      "cell_type": "code",
      "metadata": {
        "id": "GWJMVD0fqiMa",
        "colab": {
          "base_uri": "https://localhost:8080/"
        },
        "outputId": "19df993c-68e4-40a4-c728-06548eb59e58"
      },
      "source": [
        "size = int(input('Enter size of the pattern: '))\n",
        "spaces = size-1;\n",
        "for i in range(1,size+1):\n",
        "  for j in range(0,spaces):\n",
        "    print(end=\" \")\n",
        "  spaces = spaces-1\n",
        "  for k in range(1,i+1):\n",
        "    print('*', end=\" \")\n",
        "  print()"
      ],
      "execution_count": null,
      "outputs": [
        {
          "output_type": "stream",
          "text": [
            "Enter size of the pattern: 5\n",
            "    * \n",
            "   * * \n",
            "  * * * \n",
            " * * * * \n",
            "* * * * * \n"
          ],
          "name": "stdout"
        }
      ]
    },
    {
      "cell_type": "markdown",
      "metadata": {
        "id": "78ztW-msgpC8"
      },
      "source": [
        "## **Reverse Triangle Pyramid Pattern**"
      ]
    },
    {
      "cell_type": "code",
      "metadata": {
        "colab": {
          "base_uri": "https://localhost:8080/"
        },
        "id": "del3Yfe3gtFH",
        "outputId": "7764b8e7-fd07-4438-c1d5-af5e5c43007b"
      },
      "source": [
        "size = int(input('Enter size of the pattern: '))\n",
        "spaces = size-1;\n",
        "for i in range(size,0,-1):\n",
        "  for j in range(0,size-i+1):\n",
        "    print(end=\" \")\n",
        "  for k in range(0,i):\n",
        "    print('*', end=\" \")\n",
        "  print()"
      ],
      "execution_count": null,
      "outputs": [
        {
          "output_type": "stream",
          "text": [
            "Enter size of the pattern: 5\n",
            " * * * * * \n",
            "  * * * * \n",
            "   * * * \n",
            "    * * \n",
            "     * \n"
          ],
          "name": "stdout"
        }
      ]
    },
    {
      "cell_type": "markdown",
      "metadata": {
        "id": "6bi4D2r5h-S-"
      },
      "source": [
        "## **Diamond Pattern**"
      ]
    },
    {
      "cell_type": "code",
      "metadata": {
        "colab": {
          "base_uri": "https://localhost:8080/"
        },
        "id": "_ZQQXfdsh_HV",
        "outputId": "f3fab51f-7e21-4035-b6bf-8bdcf04dc641"
      },
      "source": [
        "size = int(input('Enter size of the pattern: '))\n",
        "spaces = size-1;\n",
        "for i in range(1,size+1):\n",
        "  for j in range(0,spaces):\n",
        "    print(end=\" \")\n",
        "  spaces = spaces-1\n",
        "  for k in range(0,i):\n",
        "    print('*', end=\" \")\n",
        "  print()\n",
        "\n",
        "for i in range(size,0,-1):\n",
        "  for j in range(0,size-i):\n",
        "    print(end=\" \")\n",
        "  for k in range(0,i):\n",
        "    print('*', end=\" \")\n",
        "  print()\n"
      ],
      "execution_count": null,
      "outputs": [
        {
          "output_type": "stream",
          "text": [
            "Enter size of the pattern: 5\n",
            "    * \n",
            "   * * \n",
            "  * * * \n",
            " * * * * \n",
            "* * * * * \n",
            "* * * * * \n",
            " * * * * \n",
            "  * * * \n",
            "   * * \n",
            "    * \n"
          ],
          "name": "stdout"
        }
      ]
    },
    {
      "cell_type": "markdown",
      "metadata": {
        "id": "m6fK8ySY5qUB"
      },
      "source": [
        "## **Hourglass Pattern**"
      ]
    },
    {
      "cell_type": "code",
      "metadata": {
        "colab": {
          "base_uri": "https://localhost:8080/"
        },
        "id": "F1Y1_-7kkXz0",
        "outputId": "587cf45f-4c86-4647-bc41-c0a124bd3053"
      },
      "source": [
        "size = int(input('Enter size of the pattern: '))\n",
        "\n",
        "for i in range(size,0,-1):\n",
        "  for j in range(0,size-i):\n",
        "    print(end=\" \")\n",
        "  for k in range(0,i):\n",
        "    print('*', end=\" \")\n",
        "  print()\n",
        "\n",
        "for i in range(1,size+1):\n",
        "  for j in range(0,size-i):\n",
        "    print(end=\" \")\n",
        "  for k in range(0,i):\n",
        "    print('*', end=\" \")\n",
        "  print()"
      ],
      "execution_count": null,
      "outputs": [
        {
          "output_type": "stream",
          "text": [
            "Enter size of the pattern: 5\n",
            "* * * * * \n",
            " * * * * \n",
            "  * * * \n",
            "   * * \n",
            "    * \n",
            "    * \n",
            "   * * \n",
            "  * * * \n",
            " * * * * \n",
            "* * * * * \n"
          ],
          "name": "stdout"
        }
      ]
    },
    {
      "cell_type": "markdown",
      "metadata": {
        "id": "iv33_qYZ8dzr"
      },
      "source": [
        "## **Hollow Diamond Pattern**"
      ]
    },
    {
      "cell_type": "code",
      "metadata": {
        "colab": {
          "base_uri": "https://localhost:8080/"
        },
        "id": "CuUxzxFh8fAU",
        "outputId": "7f549cb7-98ad-474b-af1e-54b8c0615e65"
      },
      "source": [
        "size = int(input('Enter size of the pattern: '))\n",
        "\n",
        "if size%2==1:\n",
        "  size=size-1\n",
        "for i in range(size+1):\n",
        "  for j in range(size+1):\n",
        "    if i+j==size//2 or i-j==size//2 or j-i==size//2 or i+j==size+size//2:\n",
        "      print('*', end=\" \")\n",
        "    else: \n",
        "      print(' ',end=\"\") \n",
        "  print()"
      ],
      "execution_count": 16,
      "outputs": [
        {
          "output_type": "stream",
          "text": [
            "Enter size of the pattern: 6\n",
            "   *    \n",
            "  *  *   \n",
            " *    *  \n",
            "*      * \n",
            " *    *  \n",
            "  *  *   \n",
            "   *    \n"
          ],
          "name": "stdout"
        }
      ]
    },
    {
      "cell_type": "markdown",
      "metadata": {
        "id": "IeXQZkKxNMni"
      },
      "source": [
        "## **Number Pattern**"
      ]
    },
    {
      "cell_type": "code",
      "metadata": {
        "colab": {
          "base_uri": "https://localhost:8080/"
        },
        "id": "jy3iXlCGQxh9",
        "outputId": "fc607827-0959-40b8-a175-a3c071b7d5e6"
      },
      "source": [
        "size = int(input('Enter size of the pattern: '))\n",
        "\n",
        "for i in range(1,size+1):\n",
        "  for j in range(1,i+1):\n",
        "    print(i , end=\" \")\n",
        "  print()"
      ],
      "execution_count": null,
      "outputs": [
        {
          "output_type": "stream",
          "text": [
            "Enter size of the pattern: 5\n",
            "1 \n",
            "2 2 \n",
            "3 3 3 \n",
            "4 4 4 4 \n",
            "5 5 5 5 5 \n"
          ],
          "name": "stdout"
        }
      ]
    },
    {
      "cell_type": "markdown",
      "metadata": {
        "id": "uCSLgtdeUDIC"
      },
      "source": [
        "## **Half Pyramid Number Pattern**"
      ]
    },
    {
      "cell_type": "code",
      "metadata": {
        "colab": {
          "base_uri": "https://localhost:8080/"
        },
        "id": "Q97jnVOjVTXy",
        "outputId": "c2d3cc7a-bf64-411b-c162-66f73a45a2e7"
      },
      "source": [
        "size = int(input('Enter size of the pattern: '))\n",
        "\n",
        "for i in range(1,size+1):\n",
        "  for j in range(1,i+1):\n",
        "    print(j,end=\" \")\n",
        "  print()"
      ],
      "execution_count": null,
      "outputs": [
        {
          "output_type": "stream",
          "text": [
            "Enter size of the pattern: 5\n",
            "1 \n",
            "1 2 \n",
            "1 2 3 \n",
            "1 2 3 4 \n",
            "1 2 3 4 5 \n"
          ],
          "name": "stdout"
        }
      ]
    },
    {
      "cell_type": "markdown",
      "metadata": {
        "id": "IJuM0jh3WWSa"
      },
      "source": [
        "## **Half Reversed Pyramid Number Pattern**"
      ]
    },
    {
      "cell_type": "code",
      "metadata": {
        "colab": {
          "base_uri": "https://localhost:8080/"
        },
        "id": "QNUAXLZAWYPS",
        "outputId": "bcaf6f34-5ba7-4f15-bcb7-eb7d2d9c1424"
      },
      "source": [
        "size = int(input('Enter size of the pattern: '))\n",
        "\n",
        "for i in range(1,size+1):\n",
        "  for j in range(1,i+1):\n",
        "    print(i,end=\" \")\n",
        "  print()"
      ],
      "execution_count": null,
      "outputs": [
        {
          "output_type": "stream",
          "text": [
            "Enter size of the pattern: 5\n",
            "1 \n",
            "2 2 \n",
            "3 3 3 \n",
            "4 4 4 4 \n",
            "5 5 5 5 5 \n"
          ],
          "name": "stdout"
        }
      ]
    },
    {
      "cell_type": "markdown",
      "metadata": {
        "id": "f-7uHfsuX8Yk"
      },
      "source": [
        "## **Same Number Inverted Pyramid Pattern**"
      ]
    },
    {
      "cell_type": "code",
      "metadata": {
        "colab": {
          "base_uri": "https://localhost:8080/"
        },
        "id": "8YwAxKE4X9Pu",
        "outputId": "a510eff9-8d0b-4d9f-ccde-2b1b641c4a4e"
      },
      "source": [
        "size = int(input('Enter size of the pattern: '))\n",
        "num = int(input('Enter the number: '))\n",
        "\n",
        "for i in range(size,0,-1):\n",
        "  for j in range(0,i):\n",
        "    print(num, end=\" \")\n",
        "  print()"
      ],
      "execution_count": null,
      "outputs": [
        {
          "output_type": "stream",
          "text": [
            "Enter size of the pattern: 5\n",
            "Enter the number6\n",
            "6 6 6 6 6 \n",
            "6 6 6 6 \n",
            "6 6 6 \n",
            "6 6 \n",
            "6 \n"
          ],
          "name": "stdout"
        }
      ]
    },
    {
      "cell_type": "markdown",
      "metadata": {
        "id": "rBp3i5Kaarrv"
      },
      "source": [
        "## **Descending Order of Number Pattern**"
      ]
    },
    {
      "cell_type": "code",
      "metadata": {
        "colab": {
          "base_uri": "https://localhost:8080/"
        },
        "id": "1V00WksyasjN",
        "outputId": "8b3a22fd-e915-47df-8790-69f3cdaccd1c"
      },
      "source": [
        "size = int(input('Enter size of the pattern: '))\n",
        "\n",
        "for i in range(size,0,-1):\n",
        "  for j in range(0,i):\n",
        "    print(i, end=\" \")\n",
        "  print()"
      ],
      "execution_count": null,
      "outputs": [
        {
          "output_type": "stream",
          "text": [
            "Enter size of the pattern: 5\n",
            "5 5 5 5 5 \n",
            "4 4 4 4 \n",
            "3 3 3 \n",
            "2 2 \n",
            "1 \n"
          ],
          "name": "stdout"
        }
      ]
    },
    {
      "cell_type": "markdown",
      "metadata": {
        "id": "vCFquV4PbU4i"
      },
      "source": [
        "## **Print Natural numbers in pattern(Floyd's Triangle)**"
      ]
    },
    {
      "cell_type": "code",
      "metadata": {
        "id": "6D5Lfph-bVjX",
        "colab": {
          "base_uri": "https://localhost:8080/"
        },
        "outputId": "49e43e33-8373-497d-b35f-cc13cb43e1db"
      },
      "source": [
        "size = int(input('Enter size of the pattern: '))\n",
        "\n",
        "num=1\n",
        "for i in range(1,size+1):\n",
        "  for j in range(0,i):\n",
        "    print(num, end=\" \")\n",
        "    num=num+1\n",
        "  print() "
      ],
      "execution_count": 18,
      "outputs": [
        {
          "output_type": "stream",
          "text": [
            "Enter size of the pattern: 5\n",
            "1 \n",
            "2 3 \n",
            "4 5 6 \n",
            "7 8 9 10 \n",
            "11 12 13 14 15 \n"
          ],
          "name": "stdout"
        }
      ]
    },
    {
      "cell_type": "markdown",
      "metadata": {
        "id": "sH3JPELLVNin"
      },
      "source": [
        "## **Reverse Floyd's Triangle**"
      ]
    },
    {
      "cell_type": "code",
      "metadata": {
        "colab": {
          "base_uri": "https://localhost:8080/"
        },
        "id": "sXQslS5NVV_s",
        "outputId": "c83f93a9-9cbb-4e55-9aff-d81ca05f4d68"
      },
      "source": [
        "size = int(input('Enter size of the pattern: '))\n",
        "\n",
        "num = (size*(size+1))//2\n",
        "for i in range(size,0,-1):\n",
        "  for j in range(0,i):\n",
        "    print(num,end=\" \")\n",
        "    num = num-1\n",
        "  print()"
      ],
      "execution_count": 23,
      "outputs": [
        {
          "output_type": "stream",
          "text": [
            "Enter size of the pattern: 5\n",
            "15 14 13 12 11 \n",
            "10 9 8 7 \n",
            "6 5 4 \n",
            "3 2 \n",
            "1 \n"
          ],
          "name": "stdout"
        }
      ]
    },
    {
      "cell_type": "markdown",
      "metadata": {
        "id": "_fqlYqjYWPNC"
      },
      "source": [
        "## **Print Odd numbers in pattern**"
      ]
    },
    {
      "cell_type": "code",
      "metadata": {
        "colab": {
          "base_uri": "https://localhost:8080/"
        },
        "id": "dFtfW15fWPrA",
        "outputId": "e9e5cad5-524f-484f-c69f-cd60942cc5b3"
      },
      "source": [
        "size = int(input('Enter size of the pattern: '))\n",
        "\n",
        "num=1\n",
        "for i in range(1,size+1):\n",
        "  for j in range(0,i):\n",
        "    print(num,end=\" \")\n",
        "    num = num+2\n",
        "  print()"
      ],
      "execution_count": 25,
      "outputs": [
        {
          "output_type": "stream",
          "text": [
            "Enter size of the pattern: 5\n",
            "1 \n",
            "3 5 \n",
            "7 9 11 \n",
            "13 15 17 19 \n",
            "21 23 25 27 29 \n"
          ],
          "name": "stdout"
        }
      ]
    },
    {
      "cell_type": "markdown",
      "metadata": {
        "id": "1AxKP5MPhCVH"
      },
      "source": [
        "## **Square Pattern using number**"
      ]
    },
    {
      "cell_type": "code",
      "metadata": {
        "colab": {
          "base_uri": "https://localhost:8080/"
        },
        "id": "9Ml27CAahJN9",
        "outputId": "5368f9ff-e317-41b8-c581-4d988b7eb3ea"
      },
      "source": [
        "size = int(input('Enter size of the pattern: '))\n",
        "\n",
        "for i in range(1,size+1):\n",
        "  for j in range(1,size+1):\n",
        "    print(j, end=\" \")\n",
        "    num=num+1\n",
        "  print()"
      ],
      "execution_count": 27,
      "outputs": [
        {
          "output_type": "stream",
          "text": [
            "Enter size of the pattern: 5\n",
            "1 2 3 4 5 \n",
            "1 2 3 4 5 \n",
            "1 2 3 4 5 \n",
            "1 2 3 4 5 \n",
            "1 2 3 4 5 \n"
          ],
          "name": "stdout"
        }
      ]
    },
    {
      "cell_type": "markdown",
      "metadata": {
        "id": "1chWqU53iDwG"
      },
      "source": [
        "## **Multiplication of row and Column in Numbers**"
      ]
    },
    {
      "cell_type": "code",
      "metadata": {
        "colab": {
          "base_uri": "https://localhost:8080/"
        },
        "id": "tWdoFaXWiPes",
        "outputId": "f2067b66-66c9-473f-89d9-3134ab4c5f0f"
      },
      "source": [
        "size = int(input('Enter size of the pattern: '))\n",
        "\n",
        "for i in range(1,size+1):\n",
        "  for j in range(1,i+1):\n",
        "    print(i*j, end=\" \")\n",
        "    num=num+1\n",
        "  print()"
      ],
      "execution_count": 29,
      "outputs": [
        {
          "output_type": "stream",
          "text": [
            "Enter size of the pattern: 5\n",
            "1 \n",
            "2 4 \n",
            "3 6 9 \n",
            "4 8 12 16 \n",
            "5 10 15 20 25 \n"
          ],
          "name": "stdout"
        }
      ]
    },
    {
      "cell_type": "markdown",
      "metadata": {
        "id": "4bgYyOJWidyc"
      },
      "source": [
        "## **Right-angled pattern with characters**"
      ]
    },
    {
      "cell_type": "code",
      "metadata": {
        "colab": {
          "base_uri": "https://localhost:8080/"
        },
        "id": "4w3cRYCgjX4y",
        "outputId": "a6d4c3c6-17dc-4dff-fdb1-c566afcaaa90"
      },
      "source": [
        "size = int(input('Enter size of the pattern: '))\n",
        "num = 65\n",
        "\n",
        "for i in range(1,size+1):\n",
        "  for j in range(1,i+1):\n",
        "    print(chr(num), end=\" \")\n",
        "    num=num+1\n",
        "  print()"
      ],
      "execution_count": 32,
      "outputs": [
        {
          "output_type": "stream",
          "text": [
            "Enter size of the pattern: 5\n",
            "A \n",
            "B C \n",
            "D E F \n",
            "G H I J \n",
            "K L M N O \n"
          ],
          "name": "stdout"
        }
      ]
    },
    {
      "cell_type": "markdown",
      "metadata": {
        "id": "VD542u9yj6sz"
      },
      "source": [
        "## **Reverse and inverse Right-angled pattern with characters**"
      ]
    },
    {
      "cell_type": "code",
      "metadata": {
        "colab": {
          "base_uri": "https://localhost:8080/"
        },
        "id": "It11fhu9j7kf",
        "outputId": "278cb841-e67d-49a1-ebd5-cfd4ec203e05"
      },
      "source": [
        "size = int(input('Enter size of the pattern: '))\n",
        "\n",
        "num = 65\n",
        "for i in range(size,0,-1):\n",
        "  for j in range(size-i):\n",
        "    print(\" \", end=\" \")\n",
        "  for k in range(1,i+1):\n",
        "    print(chr(num), end=\" \")\n",
        "    num=num+1\n",
        "  print()"
      ],
      "execution_count": 35,
      "outputs": [
        {
          "output_type": "stream",
          "text": [
            "Enter size of the pattern: 5\n",
            "A B C D E \n",
            "  F G H I \n",
            "    J K L \n",
            "      M N \n",
            "        O \n"
          ],
          "name": "stdout"
        }
      ]
    },
    {
      "cell_type": "markdown",
      "metadata": {
        "id": "RJ5sZLiqk-No"
      },
      "source": [
        "## **Pyramid pattern with characters**"
      ]
    },
    {
      "cell_type": "code",
      "metadata": {
        "colab": {
          "base_uri": "https://localhost:8080/"
        },
        "id": "DGJG6iYok-2p",
        "outputId": "2c1d000e-dadb-494d-d574-03391bc02961"
      },
      "source": [
        "size = int(input('Enter size of the pattern: '))\n",
        "num = 65\n",
        "\n",
        "for i in range(1,size+1):\n",
        "  for k in range(size-i):\n",
        "    print(end=\" \")\n",
        "  for j in range(1,i+1):\n",
        "    print(chr(num), end=\" \")\n",
        "    num=num+1\n",
        "  print()"
      ],
      "execution_count": 37,
      "outputs": [
        {
          "output_type": "stream",
          "text": [
            "Enter size of the pattern: 5\n",
            "    A \n",
            "   B C \n",
            "  D E F \n",
            " G H I J \n",
            "K L M N O \n"
          ],
          "name": "stdout"
        }
      ]
    },
    {
      "cell_type": "markdown",
      "metadata": {
        "id": "EO6vAR_Wnrwc"
      },
      "source": [
        "## **Display letter of the word in Pattern**"
      ]
    },
    {
      "cell_type": "code",
      "metadata": {
        "colab": {
          "base_uri": "https://localhost:8080/"
        },
        "id": "RRk-CUkfnuwn",
        "outputId": "2e1e833d-2814-4add-b220-473bda14ee24"
      },
      "source": [
        "str = input('Enter the string: ')\n",
        "res = \"\"\n",
        "for i in str:\n",
        "  res=res+i\n",
        "  print(res)"
      ],
      "execution_count": 42,
      "outputs": [
        {
          "output_type": "stream",
          "text": [
            "Enter the string: raushan\n",
            "r\n",
            "ra\n",
            "rau\n",
            "raus\n",
            "raush\n",
            "rausha\n",
            "raushan\n"
          ],
          "name": "stdout"
        }
      ]
    }
  ]
}