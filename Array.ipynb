{
  "nbformat": 4,
  "nbformat_minor": 0,
  "metadata": {
    "colab": {
      "name": "Array.ipynb",
      "provenance": [],
      "authorship_tag": "ABX9TyMuFgNXeN1QHed/yHseHiYQ",
      "include_colab_link": true
    },
    "kernelspec": {
      "name": "python3",
      "display_name": "Python 3"
    },
    "language_info": {
      "name": "python"
    }
  },
  "cells": [
    {
      "cell_type": "markdown",
      "metadata": {
        "id": "view-in-github",
        "colab_type": "text"
      },
      "source": [
        "<a href=\"https://colab.research.google.com/github/raushanrk5/Revising-Python/blob/main/Array.ipynb\" target=\"_parent\"><img src=\"https://colab.research.google.com/assets/colab-badge.svg\" alt=\"Open In Colab\"/></a>"
      ]
    },
    {
      "cell_type": "markdown",
      "metadata": {
        "id": "pyfol3Qjl-h4"
      },
      "source": [
        "# **Python Arrays**"
      ]
    },
    {
      "cell_type": "markdown",
      "metadata": {
        "id": "zQxOkZ5tmOyG"
      },
      "source": [
        "An array is a collection of items stored at contiguous memory locations. The idea is to store multiple items of the same type together. This makes it easier to calculate the position of each element by simply adding an offset to a base value, i.e., the memory location of the first element of the array (generally denoted by the name of the array). <br>\n",
        "**Array can be handled in Python by a module named array.** <br>\n",
        "They can be useful when we have to manipulate only a specific data type values. A user can treat lists as arrays. However, user cannot constraint the type of elements stored in a list. If you create arrays using the array module, all elements of the array must be of the same type.\n"
      ]
    },
    {
      "cell_type": "markdown",
      "metadata": {
        "id": "d9R9puw2tPGt"
      },
      "source": [
        "## **Creating Array**"
      ]
    },
    {
      "cell_type": "code",
      "metadata": {
        "id": "CCSmkhQul6vU"
      },
      "source": [
        "# importing \"array\" for array creations\n",
        "import array as arr"
      ],
      "execution_count": 2,
      "outputs": []
    },
    {
      "cell_type": "code",
      "metadata": {
        "colab": {
          "base_uri": "https://localhost:8080/"
        },
        "id": "g-6HhNoYsJeO",
        "outputId": "55f367a7-0bbb-4c70-90a3-de89076af2ab"
      },
      "source": [
        "a = arr.array('i',[2,3,5,67,8])\n",
        "a"
      ],
      "execution_count": 3,
      "outputs": [
        {
          "output_type": "execute_result",
          "data": {
            "text/plain": [
              "array('i', [2, 3, 5, 67, 8])"
            ]
          },
          "metadata": {
            "tags": []
          },
          "execution_count": 3
        }
      ]
    },
    {
      "cell_type": "markdown",
      "metadata": {
        "id": "Rurs1hC8tlRs"
      },
      "source": [
        "## **Accessing Array elements**\n",
        "[Data types](https://media.geeksforgeeks.org/wp-content/uploads/CommonArticleDesign2-min.png)"
      ]
    },
    {
      "cell_type": "code",
      "metadata": {
        "colab": {
          "base_uri": "https://localhost:8080/"
        },
        "id": "d8zTrnkmttp8",
        "outputId": "0c86e874-b8b2-42b6-92e1-87eb7d6a1f72"
      },
      "source": [
        "a[2]"
      ],
      "execution_count": 4,
      "outputs": [
        {
          "output_type": "execute_result",
          "data": {
            "text/plain": [
              "5"
            ]
          },
          "metadata": {
            "tags": []
          },
          "execution_count": 4
        }
      ]
    },
    {
      "cell_type": "code",
      "metadata": {
        "colab": {
          "base_uri": "https://localhost:8080/"
        },
        "id": "XytqoY6CRBUk",
        "outputId": "8417fa22-f8e9-4d31-fbb6-7551488f990f"
      },
      "source": [
        "a.index(67)           #index method is used to find and return the first occurence"
      ],
      "execution_count": 5,
      "outputs": [
        {
          "output_type": "execute_result",
          "data": {
            "text/plain": [
              "3"
            ]
          },
          "metadata": {
            "tags": []
          },
          "execution_count": 5
        }
      ]
    },
    {
      "cell_type": "code",
      "metadata": {
        "colab": {
          "base_uri": "https://localhost:8080/",
          "height": 163
        },
        "id": "_Ay8k06aRK3o",
        "outputId": "899bd692-69df-4e29-f870-8f52df5629bb"
      },
      "source": [
        "a.index(9)           #it givees valueError, if valuee is not preseent in the array"
      ],
      "execution_count": 6,
      "outputs": [
        {
          "output_type": "error",
          "ename": "ValueError",
          "evalue": "ignored",
          "traceback": [
            "\u001b[0;31m---------------------------------------------------------------------------\u001b[0m",
            "\u001b[0;31mValueError\u001b[0m                                Traceback (most recent call last)",
            "\u001b[0;32m<ipython-input-6-fee9ecc74da0>\u001b[0m in \u001b[0;36m<module>\u001b[0;34m()\u001b[0m\n\u001b[0;32m----> 1\u001b[0;31m \u001b[0ma\u001b[0m\u001b[0;34m.\u001b[0m\u001b[0mindex\u001b[0m\u001b[0;34m(\u001b[0m\u001b[0;36m9\u001b[0m\u001b[0;34m)\u001b[0m           \u001b[0;31m#it givees valueError, if valuee is not preseent in the array\u001b[0m\u001b[0;34m\u001b[0m\u001b[0;34m\u001b[0m\u001b[0m\n\u001b[0m",
            "\u001b[0;31mValueError\u001b[0m: array.index(x): x not in array"
          ]
        }
      ]
    },
    {
      "cell_type": "code",
      "metadata": {
        "colab": {
          "base_uri": "https://localhost:8080/"
        },
        "id": "aQpJEniEwHc1",
        "outputId": "980b1a26-8ea8-40e7-ab2d-1640da0abc5b"
      },
      "source": [
        "a[-2]      #using negative index for accesing element from end"
      ],
      "execution_count": 7,
      "outputs": [
        {
          "output_type": "execute_result",
          "data": {
            "text/plain": [
              "67"
            ]
          },
          "metadata": {
            "tags": []
          },
          "execution_count": 7
        }
      ]
    },
    {
      "cell_type": "code",
      "metadata": {
        "colab": {
          "base_uri": "https://localhost:8080/"
        },
        "id": "xsB0-LUgu0w5",
        "outputId": "e373b59a-d849-4a1a-a748-8d581031d1f7"
      },
      "source": [
        "a[2:5]           #slicing"
      ],
      "execution_count": 8,
      "outputs": [
        {
          "output_type": "execute_result",
          "data": {
            "text/plain": [
              "array('i', [5, 67, 8])"
            ]
          },
          "metadata": {
            "tags": []
          },
          "execution_count": 8
        }
      ]
    },
    {
      "cell_type": "code",
      "metadata": {
        "colab": {
          "base_uri": "https://localhost:8080/"
        },
        "id": "LRQd7WRpvKTm",
        "outputId": "ed15b624-3923-4038-c63c-f499198ea8dd"
      },
      "source": [
        "for i in a:             #using for loop to access all the elements\n",
        "  print(i, end=\" \")"
      ],
      "execution_count": 9,
      "outputs": [
        {
          "output_type": "stream",
          "text": [
            "2 3 5 67 8 "
          ],
          "name": "stdout"
        }
      ]
    },
    {
      "cell_type": "markdown",
      "metadata": {
        "id": "MZXDd2zfwXO5"
      },
      "source": [
        "## **Basic Operations**\n",
        "**Following are the basic operations supported by an array.**\n",
        "\n",
        "Length −\n",
        "Traverse − print all the array elements one by one. <br>\n",
        "Insertion − Adds an element at the given index. <br>\n",
        "Deletion − Deletes an element at the given index. <br>\n",
        "Search − Searches an element using the given index or by the value. <br>\n",
        "Update − Updates an element at the given index."
      ]
    },
    {
      "cell_type": "markdown",
      "metadata": {
        "id": "UdYEfJujQAOP"
      },
      "source": [
        "## **Finding length of an array**"
      ]
    },
    {
      "cell_type": "code",
      "metadata": {
        "colab": {
          "base_uri": "https://localhost:8080/"
        },
        "id": "Br1GhTs2QEWI",
        "outputId": "9193429c-0ea8-4776-ba8b-8c61b93d9f6c"
      },
      "source": [
        "length = len(a)\n",
        "length"
      ],
      "execution_count": 10,
      "outputs": [
        {
          "output_type": "execute_result",
          "data": {
            "text/plain": [
              "5"
            ]
          },
          "metadata": {
            "tags": []
          },
          "execution_count": 10
        }
      ]
    },
    {
      "cell_type": "markdown",
      "metadata": {
        "id": "-nVcp65rQIRD"
      },
      "source": [
        "## **Inserting element in an array**"
      ]
    },
    {
      "cell_type": "code",
      "metadata": {
        "colab": {
          "base_uri": "https://localhost:8080/"
        },
        "id": "xaTSz7rtQRRF",
        "outputId": "2bcf3b1e-58a4-40ad-b0ae-c80a0a842ef9"
      },
      "source": [
        "a. append(76)     #using append to insert an element at end\n",
        "a"
      ],
      "execution_count": 11,
      "outputs": [
        {
          "output_type": "execute_result",
          "data": {
            "text/plain": [
              "array('i', [2, 3, 5, 67, 8, 76])"
            ]
          },
          "metadata": {
            "tags": []
          },
          "execution_count": 11
        }
      ]
    },
    {
      "cell_type": "code",
      "metadata": {
        "colab": {
          "base_uri": "https://localhost:8080/"
        },
        "id": "gyqQp0vHQRYo",
        "outputId": "4ce5a45a-611e-4a9b-8270-a89ac312bf46"
      },
      "source": [
        "a.extend([23,56])      #using extend to insert more than one element at end\n",
        "a"
      ],
      "execution_count": 12,
      "outputs": [
        {
          "output_type": "execute_result",
          "data": {
            "text/plain": [
              "array('i', [2, 3, 5, 67, 8, 76, 23, 56])"
            ]
          },
          "metadata": {
            "tags": []
          },
          "execution_count": 12
        }
      ]
    },
    {
      "cell_type": "code",
      "metadata": {
        "colab": {
          "base_uri": "https://localhost:8080/"
        },
        "id": "6bUy7rb1Qm87",
        "outputId": "71617131-16b6-46c7-87fc-90b0972fba71"
      },
      "source": [
        "a.insert(2,34)           #using insert to insert the element at given position\n",
        "a"
      ],
      "execution_count": 13,
      "outputs": [
        {
          "output_type": "execute_result",
          "data": {
            "text/plain": [
              "array('i', [2, 3, 34, 5, 67, 8, 76, 23, 56])"
            ]
          },
          "metadata": {
            "tags": []
          },
          "execution_count": 13
        }
      ]
    },
    {
      "cell_type": "markdown",
      "metadata": {
        "id": "FWQGwTt8Qmi2"
      },
      "source": [
        "## **Removing element from an array**"
      ]
    },
    {
      "cell_type": "code",
      "metadata": {
        "colab": {
          "base_uri": "https://localhost:8080/"
        },
        "id": "gpAFP9BZRX7U",
        "outputId": "35cd2826-5333-47be-88ae-2665ec0ce414"
      },
      "source": [
        "a.pop()         #used to pop and return the element at given position, if the position is not specified, it removes the last element"
      ],
      "execution_count": 14,
      "outputs": [
        {
          "output_type": "execute_result",
          "data": {
            "text/plain": [
              "56"
            ]
          },
          "metadata": {
            "tags": []
          },
          "execution_count": 14
        }
      ]
    },
    {
      "cell_type": "code",
      "metadata": {
        "colab": {
          "base_uri": "https://localhost:8080/"
        },
        "id": "ELiB8cvuS6TC",
        "outputId": "baa32f25-8cb2-4e53-c67b-98568d4c5342"
      },
      "source": [
        "a.pop(1)"
      ],
      "execution_count": 21,
      "outputs": [
        {
          "output_type": "execute_result",
          "data": {
            "text/plain": [
              "5"
            ]
          },
          "metadata": {
            "tags": []
          },
          "execution_count": 21
        }
      ]
    },
    {
      "cell_type": "code",
      "metadata": {
        "colab": {
          "base_uri": "https://localhost:8080/"
        },
        "id": "3xSp222qS-rb",
        "outputId": "b65c375f-0379-4d2c-b081-293796bd6624"
      },
      "source": [
        "a.pop(-2)"
      ],
      "execution_count": 22,
      "outputs": [
        {
          "output_type": "execute_result",
          "data": {
            "text/plain": [
              "8"
            ]
          },
          "metadata": {
            "tags": []
          },
          "execution_count": 22
        }
      ]
    },
    {
      "cell_type": "code",
      "metadata": {
        "colab": {
          "base_uri": "https://localhost:8080/"
        },
        "id": "OUBA5t4oTCu2",
        "outputId": "53f26300-78aa-43f4-84cb-c8fa83c70610"
      },
      "source": [
        "a"
      ],
      "execution_count": 23,
      "outputs": [
        {
          "output_type": "execute_result",
          "data": {
            "text/plain": [
              "array('i', [2, 82, 67, 93])"
            ]
          },
          "metadata": {
            "tags": []
          },
          "execution_count": 23
        }
      ]
    },
    {
      "cell_type": "code",
      "metadata": {
        "colab": {
          "base_uri": "https://localhost:8080/"
        },
        "id": "m8QEPer7TI17",
        "outputId": "d93dd9a7-fabb-4dfb-8775-44e82114c1c5"
      },
      "source": [
        "a.remove(2)          #it removes the given element, but doesn't return it\n",
        "a"
      ],
      "execution_count": 25,
      "outputs": [
        {
          "output_type": "execute_result",
          "data": {
            "text/plain": [
              "array('i', [82, 67, 93])"
            ]
          },
          "metadata": {
            "tags": []
          },
          "execution_count": 25
        }
      ]
    },
    {
      "cell_type": "markdown",
      "metadata": {
        "id": "jrDRe9GMTwY5"
      },
      "source": [
        "## **Updating element in an array**"
      ]
    },
    {
      "cell_type": "code",
      "metadata": {
        "colab": {
          "base_uri": "https://localhost:8080/"
        },
        "id": "HaFEn3bZV8Gg",
        "outputId": "4ab54a0f-ed38-4bb6-fec8-8bf71fe59d87"
      },
      "source": [
        "a[2] = 82               #using index to update the eelement at given pos\n",
        "a"
      ],
      "execution_count": 26,
      "outputs": [
        {
          "output_type": "execute_result",
          "data": {
            "text/plain": [
              "array('i', [82, 67, 82])"
            ]
          },
          "metadata": {
            "tags": []
          },
          "execution_count": 26
        }
      ]
    },
    {
      "cell_type": "code",
      "metadata": {
        "colab": {
          "base_uri": "https://localhost:8080/"
        },
        "id": "hiDctuiLWB_X",
        "outputId": "85914b2f-fc7c-441b-b04b-4ece6bf5eb32"
      },
      "source": [
        "a[-1] = 93\n",
        "a"
      ],
      "execution_count": 29,
      "outputs": [
        {
          "output_type": "execute_result",
          "data": {
            "text/plain": [
              "array('i', [82, 69, 93])"
            ]
          },
          "metadata": {
            "tags": []
          },
          "execution_count": 29
        }
      ]
    },
    {
      "cell_type": "markdown",
      "metadata": {
        "id": "_QdHT_hcEyle"
      },
      "source": [
        "## **Concatinating two array**"
      ]
    },
    {
      "cell_type": "code",
      "metadata": {
        "colab": {
          "base_uri": "https://localhost:8080/"
        },
        "id": "ttP8-ettFc2i",
        "outputId": "32faeb85-d4fd-4fa2-d1eb-1f9ee0dde9fc"
      },
      "source": [
        "arr1 = arr.array('i',[45,56,67,78,89])\n",
        "arr2 = arr.array('i',[98,87,76])\n",
        "arr3 = arr1+arr2        #concatinating two array using '+'\n",
        "arr3"
      ],
      "execution_count": 31,
      "outputs": [
        {
          "output_type": "execute_result",
          "data": {
            "text/plain": [
              "array('i', [45, 56, 67, 78, 89, 98, 87, 76])"
            ]
          },
          "metadata": {
            "tags": []
          },
          "execution_count": 31
        }
      ]
    },
    {
      "cell_type": "code",
      "metadata": {
        "colab": {
          "base_uri": "https://localhost:8080/",
          "height": 214
        },
        "id": "k8RhWBv9Goek",
        "outputId": "90d53317-727b-4981-bb1d-28aa80e6a637"
      },
      "source": [
        "arr1 = arr.array('i',[45,56,67,78,89])\n",
        "arr2 = arr.array('chr',['98','87','76'])\n",
        "arr3 = arr1+arr2        # i.e, we can concatinate only the arrays of same data type\n",
        "arr3"
      ],
      "execution_count": 32,
      "outputs": [
        {
          "output_type": "error",
          "ename": "TypeError",
          "evalue": "ignored",
          "traceback": [
            "\u001b[0;31m---------------------------------------------------------------------------\u001b[0m",
            "\u001b[0;31mTypeError\u001b[0m                                 Traceback (most recent call last)",
            "\u001b[0;32m<ipython-input-32-c97f77efc318>\u001b[0m in \u001b[0;36m<module>\u001b[0;34m()\u001b[0m\n\u001b[1;32m      1\u001b[0m \u001b[0marr1\u001b[0m \u001b[0;34m=\u001b[0m \u001b[0marr\u001b[0m\u001b[0;34m.\u001b[0m\u001b[0marray\u001b[0m\u001b[0;34m(\u001b[0m\u001b[0;34m'i'\u001b[0m\u001b[0;34m,\u001b[0m\u001b[0;34m[\u001b[0m\u001b[0;36m45\u001b[0m\u001b[0;34m,\u001b[0m\u001b[0;36m56\u001b[0m\u001b[0;34m,\u001b[0m\u001b[0;36m67\u001b[0m\u001b[0;34m,\u001b[0m\u001b[0;36m78\u001b[0m\u001b[0;34m,\u001b[0m\u001b[0;36m89\u001b[0m\u001b[0;34m]\u001b[0m\u001b[0;34m)\u001b[0m\u001b[0;34m\u001b[0m\u001b[0;34m\u001b[0m\u001b[0m\n\u001b[0;32m----> 2\u001b[0;31m \u001b[0marr2\u001b[0m \u001b[0;34m=\u001b[0m \u001b[0marr\u001b[0m\u001b[0;34m.\u001b[0m\u001b[0marray\u001b[0m\u001b[0;34m(\u001b[0m\u001b[0;34m'chr'\u001b[0m\u001b[0;34m,\u001b[0m\u001b[0;34m[\u001b[0m\u001b[0;34m'98'\u001b[0m\u001b[0;34m,\u001b[0m\u001b[0;34m'87'\u001b[0m\u001b[0;34m,\u001b[0m\u001b[0;34m'76'\u001b[0m\u001b[0;34m]\u001b[0m\u001b[0;34m)\u001b[0m\u001b[0;34m\u001b[0m\u001b[0;34m\u001b[0m\u001b[0m\n\u001b[0m\u001b[1;32m      3\u001b[0m \u001b[0marr3\u001b[0m \u001b[0;34m=\u001b[0m \u001b[0marr1\u001b[0m\u001b[0;34m+\u001b[0m\u001b[0marr2\u001b[0m        \u001b[0;31m#concatinating two array using '+'\u001b[0m\u001b[0;34m\u001b[0m\u001b[0;34m\u001b[0m\u001b[0m\n\u001b[1;32m      4\u001b[0m \u001b[0marr3\u001b[0m\u001b[0;34m\u001b[0m\u001b[0;34m\u001b[0m\u001b[0m\n",
            "\u001b[0;31mTypeError\u001b[0m: array() argument 1 must be a unicode character, not str"
          ]
        }
      ]
    },
    {
      "cell_type": "markdown",
      "metadata": {
        "id": "LUj53bjwHdP5"
      },
      "source": [
        "## **Slicing**"
      ]
    },
    {
      "cell_type": "code",
      "metadata": {
        "colab": {
          "base_uri": "https://localhost:8080/"
        },
        "id": "fXHHu5KjHhVR",
        "outputId": "b4e60d57-70dd-4d72-e1e0-610bc91a0cc8"
      },
      "source": [
        "arr3"
      ],
      "execution_count": 33,
      "outputs": [
        {
          "output_type": "execute_result",
          "data": {
            "text/plain": [
              "array('i', [45, 56, 67, 78, 89, 98, 87, 76])"
            ]
          },
          "metadata": {
            "tags": []
          },
          "execution_count": 33
        }
      ]
    },
    {
      "cell_type": "code",
      "metadata": {
        "colab": {
          "base_uri": "https://localhost:8080/"
        },
        "id": "faTxGoIgHphN",
        "outputId": "972ff616-bff3-4839-e803-7828759a4eed"
      },
      "source": [
        "arr3[0:4]"
      ],
      "execution_count": 34,
      "outputs": [
        {
          "output_type": "execute_result",
          "data": {
            "text/plain": [
              "array('i', [45, 56, 67, 78])"
            ]
          },
          "metadata": {
            "tags": []
          },
          "execution_count": 34
        }
      ]
    },
    {
      "cell_type": "code",
      "metadata": {
        "colab": {
          "base_uri": "https://localhost:8080/"
        },
        "id": "z2T5qTGlHsS-",
        "outputId": "310b4943-8b6c-44b1-efdb-234d46e19cf6"
      },
      "source": [
        "arr3[::-1]                #its just print the array in reversee order, not reverse the array"
      ],
      "execution_count": 41,
      "outputs": [
        {
          "output_type": "execute_result",
          "data": {
            "text/plain": [
              "array('i', [76, 87, 98, 89, 78, 67, 56, 45])"
            ]
          },
          "metadata": {
            "tags": []
          },
          "execution_count": 41
        }
      ]
    },
    {
      "cell_type": "code",
      "metadata": {
        "colab": {
          "base_uri": "https://localhost:8080/"
        },
        "id": "R0rBHpvoIXyb",
        "outputId": "b4ccaa35-8a26-459d-ba36-b5fd8b397e5c"
      },
      "source": [
        "arr3[-2:-5:-1]"
      ],
      "execution_count": 43,
      "outputs": [
        {
          "output_type": "execute_result",
          "data": {
            "text/plain": [
              "array('i', [87, 98, 89])"
            ]
          },
          "metadata": {
            "tags": []
          },
          "execution_count": 43
        }
      ]
    },
    {
      "cell_type": "code",
      "metadata": {
        "colab": {
          "base_uri": "https://localhost:8080/"
        },
        "id": "fmXKh3_TI1Zs",
        "outputId": "e647d2d6-0d89-4df3-a702-aeae842464e7"
      },
      "source": [
        "arr3[1:-1]"
      ],
      "execution_count": 44,
      "outputs": [
        {
          "output_type": "execute_result",
          "data": {
            "text/plain": [
              "array('i', [56, 67, 78, 89, 98, 87])"
            ]
          },
          "metadata": {
            "tags": []
          },
          "execution_count": 44
        }
      ]
    },
    {
      "cell_type": "markdown",
      "metadata": {
        "id": "DbbTeHIgI8AW"
      },
      "source": [
        "## **Looping**"
      ]
    },
    {
      "cell_type": "markdown",
      "metadata": {
        "id": "WNbnv7ZVLwXY"
      },
      "source": [
        "### **For Loop**\n",
        "**When you loop in an array like you did, your for variable(in this example i) is current element of your array.**"
      ]
    },
    {
      "cell_type": "code",
      "metadata": {
        "colab": {
          "base_uri": "https://localhost:8080/"
        },
        "id": "LffMi54HI_Jd",
        "outputId": "f5c865b3-8c07-4071-98c7-a00dd414567f"
      },
      "source": [
        "#You can use the for in loop to loop through all the elements of an array.\n",
        "for i in arr3:\n",
        "  print (i,end=\" \")"
      ],
      "execution_count": 48,
      "outputs": [
        {
          "output_type": "stream",
          "text": [
            "45 56 67 78 89 98 87 76 "
          ],
          "name": "stdout"
        }
      ]
    },
    {
      "cell_type": "code",
      "metadata": {
        "colab": {
          "base_uri": "https://localhost:8080/"
        },
        "id": "MWX590bEMCe8",
        "outputId": "7395ee7b-e574-46a6-a52f-20c245d5025b"
      },
      "source": [
        "for x in arr3[2:-2]:\n",
        "  print(x)"
      ],
      "execution_count": 49,
      "outputs": [
        {
          "output_type": "stream",
          "text": [
            "67\n",
            "78\n",
            "89\n",
            "98\n"
          ],
          "name": "stdout"
        }
      ]
    },
    {
      "cell_type": "code",
      "metadata": {
        "colab": {
          "base_uri": "https://localhost:8080/"
        },
        "id": "k0bngkBPMLEd",
        "outputId": "7c458be3-924e-404e-8873-03d8445e216d"
      },
      "source": [
        "for i in arr3[-1:0:-1]:\n",
        "  print(i)"
      ],
      "execution_count": 50,
      "outputs": [
        {
          "output_type": "stream",
          "text": [
            "76\n",
            "87\n",
            "98\n",
            "89\n",
            "78\n",
            "67\n",
            "56\n"
          ],
          "name": "stdout"
        }
      ]
    },
    {
      "cell_type": "markdown",
      "metadata": {
        "id": "fzF2bvbLMcb5"
      },
      "source": [
        "### **While Loop**\n",
        "You can loop through the list items by using a while loop.\n",
        "\n",
        "**Use the len() function to determine the length of the list,** then start at 0 and loop your way through the list items by refering to their indexes.\n",
        "\n",
        "**Remember to increase the index by 1 after each iteration.**"
      ]
    },
    {
      "cell_type": "code",
      "metadata": {
        "colab": {
          "base_uri": "https://localhost:8080/"
        },
        "id": "ztC8EgpeMq8z",
        "outputId": "20c76da9-fe63-454f-e163-40e8a22823ab"
      },
      "source": [
        "length = len(arr3)\n",
        "i=0\n",
        "while i<length:\n",
        "  print(arr3[i])\n",
        "  i=i+1\n"
      ],
      "execution_count": 52,
      "outputs": [
        {
          "output_type": "stream",
          "text": [
            "45\n",
            "56\n",
            "67\n",
            "78\n",
            "89\n",
            "98\n",
            "87\n",
            "76\n"
          ],
          "name": "stdout"
        }
      ]
    },
    {
      "cell_type": "code",
      "metadata": {
        "colab": {
          "base_uri": "https://localhost:8080/"
        },
        "id": "DDLxEj31TqQV",
        "outputId": "f18b9601-2b80-40a8-ec36-c85b4aaafaa9"
      },
      "source": [
        "temp = 70\n",
        "i=0\n",
        "while temp>arr3[i]:\n",
        "  print(arr3[i])\n",
        "  i+=1;"
      ],
      "execution_count": 54,
      "outputs": [
        {
          "output_type": "stream",
          "text": [
            "45\n",
            "56\n",
            "67\n"
          ],
          "name": "stdout"
        }
      ]
    }
  ]
}