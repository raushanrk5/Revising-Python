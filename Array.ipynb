{
  "nbformat": 4,
  "nbformat_minor": 0,
  "metadata": {
    "colab": {
      "name": "Array.ipynb",
      "provenance": [],
      "authorship_tag": "ABX9TyPrtsG4+2//g9LnQLwahTFE",
      "include_colab_link": true
    },
    "kernelspec": {
      "name": "python3",
      "display_name": "Python 3"
    },
    "language_info": {
      "name": "python"
    }
  },
  "cells": [
    {
      "cell_type": "markdown",
      "metadata": {
        "id": "view-in-github",
        "colab_type": "text"
      },
      "source": [
        "<a href=\"https://colab.research.google.com/github/raushanrk5/Revising-Python/blob/main/Array.ipynb\" target=\"_parent\"><img src=\"https://colab.research.google.com/assets/colab-badge.svg\" alt=\"Open In Colab\"/></a>"
      ]
    },
    {
      "cell_type": "markdown",
      "metadata": {
        "id": "pyfol3Qjl-h4"
      },
      "source": [
        "# **Python Arrays**"
      ]
    },
    {
      "cell_type": "markdown",
      "metadata": {
        "id": "zQxOkZ5tmOyG"
      },
      "source": [
        "An array is a collection of items stored at contiguous memory locations. The idea is to store multiple items of the same type together. This makes it easier to calculate the position of each element by simply adding an offset to a base value, i.e., the memory location of the first element of the array (generally denoted by the name of the array). <br>\n",
        "**Array can be handled in Python by a module named array.** <br>\n",
        "They can be useful when we have to manipulate only a specific data type values. A user can treat lists as arrays. However, user cannot constraint the type of elements stored in a list. If you create arrays using the array module, all elements of the array must be of the same type.\n"
      ]
    },
    {
      "cell_type": "markdown",
      "metadata": {
        "id": "d9R9puw2tPGt"
      },
      "source": [
        "## **Creating Array**"
      ]
    },
    {
      "cell_type": "code",
      "metadata": {
        "id": "CCSmkhQul6vU"
      },
      "source": [
        "# importing \"array\" for array creations\n",
        "import array as arr"
      ],
      "execution_count": 2,
      "outputs": []
    },
    {
      "cell_type": "code",
      "metadata": {
        "colab": {
          "base_uri": "https://localhost:8080/"
        },
        "id": "g-6HhNoYsJeO",
        "outputId": "1bb94b43-072c-44bc-9d19-04052c254665"
      },
      "source": [
        "a = arr.array('i',[2,3,5,67,8])\n",
        "a"
      ],
      "execution_count": 3,
      "outputs": [
        {
          "output_type": "execute_result",
          "data": {
            "text/plain": [
              "array('i', [2, 3, 5, 67, 8])"
            ]
          },
          "metadata": {
            "tags": []
          },
          "execution_count": 3
        }
      ]
    },
    {
      "cell_type": "markdown",
      "metadata": {
        "id": "Rurs1hC8tlRs"
      },
      "source": [
        "## **Accessing Array elements**\n",
        "[Data types](https://media.geeksforgeeks.org/wp-content/uploads/CommonArticleDesign2-min.png)"
      ]
    },
    {
      "cell_type": "code",
      "metadata": {
        "colab": {
          "base_uri": "https://localhost:8080/"
        },
        "id": "d8zTrnkmttp8",
        "outputId": "94b819ef-d150-4862-a664-2e22665a119e"
      },
      "source": [
        "a[2]"
      ],
      "execution_count": 4,
      "outputs": [
        {
          "output_type": "execute_result",
          "data": {
            "text/plain": [
              "5"
            ]
          },
          "metadata": {
            "tags": []
          },
          "execution_count": 4
        }
      ]
    },
    {
      "cell_type": "code",
      "metadata": {
        "colab": {
          "base_uri": "https://localhost:8080/"
        },
        "id": "XytqoY6CRBUk",
        "outputId": "4da86020-e6c6-4158-f289-ddd366cdba83"
      },
      "source": [
        "a.index(67)           #index method is used to find and return the first occurence"
      ],
      "execution_count": 12,
      "outputs": [
        {
          "output_type": "execute_result",
          "data": {
            "text/plain": [
              "4"
            ]
          },
          "metadata": {
            "tags": []
          },
          "execution_count": 12
        }
      ]
    },
    {
      "cell_type": "code",
      "metadata": {
        "colab": {
          "base_uri": "https://localhost:8080/",
          "height": 163
        },
        "id": "_Ay8k06aRK3o",
        "outputId": "9e3d6d4d-8d13-498f-86da-6271526ba9ca"
      },
      "source": [
        "a.index(9)           #it givees valueError, if valuee is not preseent in the array"
      ],
      "execution_count": 13,
      "outputs": [
        {
          "output_type": "error",
          "ename": "ValueError",
          "evalue": "ignored",
          "traceback": [
            "\u001b[0;31m---------------------------------------------------------------------------\u001b[0m",
            "\u001b[0;31mValueError\u001b[0m                                Traceback (most recent call last)",
            "\u001b[0;32m<ipython-input-13-8ab34ac345ab>\u001b[0m in \u001b[0;36m<module>\u001b[0;34m()\u001b[0m\n\u001b[0;32m----> 1\u001b[0;31m \u001b[0ma\u001b[0m\u001b[0;34m.\u001b[0m\u001b[0mindex\u001b[0m\u001b[0;34m(\u001b[0m\u001b[0;36m9\u001b[0m\u001b[0;34m)\u001b[0m\u001b[0;34m\u001b[0m\u001b[0;34m\u001b[0m\u001b[0m\n\u001b[0m",
            "\u001b[0;31mValueError\u001b[0m: array.index(x): x not in array"
          ]
        }
      ]
    },
    {
      "cell_type": "code",
      "metadata": {
        "colab": {
          "base_uri": "https://localhost:8080/"
        },
        "id": "aQpJEniEwHc1",
        "outputId": "19e9fc0e-1734-4e85-81cb-e65b998f4eb1"
      },
      "source": [
        "a[-2]      #using negative index for accesing element from end"
      ],
      "execution_count": 5,
      "outputs": [
        {
          "output_type": "execute_result",
          "data": {
            "text/plain": [
              "67"
            ]
          },
          "metadata": {
            "tags": []
          },
          "execution_count": 5
        }
      ]
    },
    {
      "cell_type": "code",
      "metadata": {
        "colab": {
          "base_uri": "https://localhost:8080/"
        },
        "id": "xsB0-LUgu0w5",
        "outputId": "e5c49f04-1536-46b0-e68e-ff15013a9786"
      },
      "source": [
        "a[2:5]           #slicing"
      ],
      "execution_count": 6,
      "outputs": [
        {
          "output_type": "execute_result",
          "data": {
            "text/plain": [
              "array('i', [5, 67, 8])"
            ]
          },
          "metadata": {
            "tags": []
          },
          "execution_count": 6
        }
      ]
    },
    {
      "cell_type": "code",
      "metadata": {
        "colab": {
          "base_uri": "https://localhost:8080/"
        },
        "id": "LRQd7WRpvKTm",
        "outputId": "174519a8-18f9-4e2d-f355-338497faf631"
      },
      "source": [
        "for i in a:             #using for loop to access all the elements\n",
        "  print(i, end=\" \")"
      ],
      "execution_count": 7,
      "outputs": [
        {
          "output_type": "stream",
          "text": [
            "2 3 5 67 8 "
          ],
          "name": "stdout"
        }
      ]
    },
    {
      "cell_type": "markdown",
      "metadata": {
        "id": "MZXDd2zfwXO5"
      },
      "source": [
        "## **Basic Operations**\n",
        "**Following are the basic operations supported by an array.**\n",
        "\n",
        "Length −\n",
        "Traverse − print all the array elements one by one. <br>\n",
        "Insertion − Adds an element at the given index. <br>\n",
        "Deletion − Deletes an element at the given index. <br>\n",
        "Search − Searches an element using the given index or by the value. <br>\n",
        "Update − Updates an element at the given index."
      ]
    },
    {
      "cell_type": "markdown",
      "metadata": {
        "id": "UdYEfJujQAOP"
      },
      "source": [
        "## **Finding length of an array**"
      ]
    },
    {
      "cell_type": "code",
      "metadata": {
        "colab": {
          "base_uri": "https://localhost:8080/"
        },
        "id": "Br1GhTs2QEWI",
        "outputId": "981f65e5-2da2-4805-ad41-b14713fb318f"
      },
      "source": [
        "length = len(a)\n",
        "length"
      ],
      "execution_count": 8,
      "outputs": [
        {
          "output_type": "execute_result",
          "data": {
            "text/plain": [
              "5"
            ]
          },
          "metadata": {
            "tags": []
          },
          "execution_count": 8
        }
      ]
    },
    {
      "cell_type": "markdown",
      "metadata": {
        "id": "-nVcp65rQIRD"
      },
      "source": [
        "## **Inserting element in an array**"
      ]
    },
    {
      "cell_type": "code",
      "metadata": {
        "colab": {
          "base_uri": "https://localhost:8080/"
        },
        "id": "xaTSz7rtQRRF",
        "outputId": "af112072-2fe7-4280-a68d-a066409e6099"
      },
      "source": [
        "a. append(76)     #using append to insert an element at end\n",
        "a"
      ],
      "execution_count": 9,
      "outputs": [
        {
          "output_type": "execute_result",
          "data": {
            "text/plain": [
              "array('i', [2, 3, 5, 67, 8, 76])"
            ]
          },
          "metadata": {
            "tags": []
          },
          "execution_count": 9
        }
      ]
    },
    {
      "cell_type": "code",
      "metadata": {
        "colab": {
          "base_uri": "https://localhost:8080/"
        },
        "id": "gyqQp0vHQRYo",
        "outputId": "109c2b64-6814-4ebe-a0b0-739cd1f6c4e7"
      },
      "source": [
        "a.extend([23,56])      #using extend to insert more than one element at end\n",
        "a"
      ],
      "execution_count": 10,
      "outputs": [
        {
          "output_type": "execute_result",
          "data": {
            "text/plain": [
              "array('i', [2, 3, 5, 67, 8, 76, 23, 56])"
            ]
          },
          "metadata": {
            "tags": []
          },
          "execution_count": 10
        }
      ]
    },
    {
      "cell_type": "code",
      "metadata": {
        "colab": {
          "base_uri": "https://localhost:8080/"
        },
        "id": "6bUy7rb1Qm87",
        "outputId": "30ab3810-a37f-4c58-95eb-961b3867e61e"
      },
      "source": [
        "a.insert(2,34)           #using insert to insert the element at given position\n",
        "a"
      ],
      "execution_count": 11,
      "outputs": [
        {
          "output_type": "execute_result",
          "data": {
            "text/plain": [
              "array('i', [2, 3, 34, 5, 67, 8, 76, 23, 56])"
            ]
          },
          "metadata": {
            "tags": []
          },
          "execution_count": 11
        }
      ]
    },
    {
      "cell_type": "markdown",
      "metadata": {
        "id": "FWQGwTt8Qmi2"
      },
      "source": [
        "## **Removing element from an array**"
      ]
    },
    {
      "cell_type": "code",
      "metadata": {
        "colab": {
          "base_uri": "https://localhost:8080/"
        },
        "id": "gpAFP9BZRX7U",
        "outputId": "65d4bb64-9db3-40e9-dee7-d2c16d52be04"
      },
      "source": [
        "a.pop()         #used to pop and return the element at given position, if the position is not specified, it removes the last element"
      ],
      "execution_count": 14,
      "outputs": [
        {
          "output_type": "execute_result",
          "data": {
            "text/plain": [
              "56"
            ]
          },
          "metadata": {
            "tags": []
          },
          "execution_count": 14
        }
      ]
    },
    {
      "cell_type": "code",
      "metadata": {
        "colab": {
          "base_uri": "https://localhost:8080/"
        },
        "id": "ELiB8cvuS6TC",
        "outputId": "f0bc2074-fa5a-4b1b-e33a-a02e331e5f58"
      },
      "source": [
        "a.pop(1)"
      ],
      "execution_count": 15,
      "outputs": [
        {
          "output_type": "execute_result",
          "data": {
            "text/plain": [
              "3"
            ]
          },
          "metadata": {
            "tags": []
          },
          "execution_count": 15
        }
      ]
    },
    {
      "cell_type": "code",
      "metadata": {
        "colab": {
          "base_uri": "https://localhost:8080/"
        },
        "id": "3xSp222qS-rb",
        "outputId": "42a8f1d2-eaa2-43d5-e67b-7645bed80112"
      },
      "source": [
        "a.pop(-2)"
      ],
      "execution_count": 16,
      "outputs": [
        {
          "output_type": "execute_result",
          "data": {
            "text/plain": [
              "76"
            ]
          },
          "metadata": {
            "tags": []
          },
          "execution_count": 16
        }
      ]
    },
    {
      "cell_type": "code",
      "metadata": {
        "colab": {
          "base_uri": "https://localhost:8080/"
        },
        "id": "OUBA5t4oTCu2",
        "outputId": "64b48f92-b345-433f-c98b-6cdf249c4def"
      },
      "source": [
        "a"
      ],
      "execution_count": 20,
      "outputs": [
        {
          "output_type": "execute_result",
          "data": {
            "text/plain": [
              "array('i', [34, 5, 67, 8, 23])"
            ]
          },
          "metadata": {
            "tags": []
          },
          "execution_count": 20
        }
      ]
    },
    {
      "cell_type": "code",
      "metadata": {
        "colab": {
          "base_uri": "https://localhost:8080/"
        },
        "id": "m8QEPer7TI17",
        "outputId": "645bc451-15e2-4414-9a58-64a7d68f0fb6"
      },
      "source": [
        "a.remove(5)          #it removes the given element, but doesn't return it\n",
        "a"
      ],
      "execution_count": 21,
      "outputs": [
        {
          "output_type": "execute_result",
          "data": {
            "text/plain": [
              "array('i', [34, 67, 8, 23])"
            ]
          },
          "metadata": {
            "tags": []
          },
          "execution_count": 21
        }
      ]
    },
    {
      "cell_type": "markdown",
      "metadata": {
        "id": "jrDRe9GMTwY5"
      },
      "source": [
        "## **Updating element in an array**"
      ]
    },
    {
      "cell_type": "code",
      "metadata": {
        "colab": {
          "base_uri": "https://localhost:8080/"
        },
        "id": "HaFEn3bZV8Gg",
        "outputId": "497f4590-fdd8-4646-cda0-040109b15acb"
      },
      "source": [
        "a[2] = 82               #using index to update the eelement at given pos\n",
        "a"
      ],
      "execution_count": 22,
      "outputs": [
        {
          "output_type": "execute_result",
          "data": {
            "text/plain": [
              "array('i', [34, 67, 82, 23])"
            ]
          },
          "metadata": {
            "tags": []
          },
          "execution_count": 22
        }
      ]
    },
    {
      "cell_type": "code",
      "metadata": {
        "colab": {
          "base_uri": "https://localhost:8080/"
        },
        "id": "hiDctuiLWB_X",
        "outputId": "48518cd4-762d-4044-e810-bcd98923460e"
      },
      "source": [
        "a[-1] = 93\n",
        "a"
      ],
      "execution_count": 23,
      "outputs": [
        {
          "output_type": "execute_result",
          "data": {
            "text/plain": [
              "array('i', [34, 67, 82, 93])"
            ]
          },
          "metadata": {
            "tags": []
          },
          "execution_count": 23
        }
      ]
    },
    {
      "cell_type": "code",
      "metadata": {
        "colab": {
          "base_uri": "https://localhost:8080/"
        },
        "id": "YCbPDUQkWLuE",
        "outputId": "6c31103f-b671-4573-b19e-31ea931d50c1"
      },
      "source": [
        "a[1] = a[1]+2\n",
        "a"
      ],
      "execution_count": 27,
      "outputs": [
        {
          "output_type": "execute_result",
          "data": {
            "text/plain": [
              "array('i', [34, 69, 82, 93])"
            ]
          },
          "metadata": {
            "tags": []
          },
          "execution_count": 27
        }
      ]
    }
  ]
}