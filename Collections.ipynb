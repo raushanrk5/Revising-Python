{
  "nbformat": 4,
  "nbformat_minor": 0,
  "metadata": {
    "colab": {
      "name": "Collections.ipynb",
      "provenance": [],
      "authorship_tag": "ABX9TyM8FkUnfmICpts4TTfLnpRq",
      "include_colab_link": true
    },
    "kernelspec": {
      "name": "python3",
      "display_name": "Python 3"
    },
    "language_info": {
      "name": "python"
    }
  },
  "cells": [
    {
      "cell_type": "markdown",
      "metadata": {
        "id": "view-in-github",
        "colab_type": "text"
      },
      "source": [
        "<a href=\"https://colab.research.google.com/github/raushanrk5/Revising-Python/blob/main/Collections.ipynb\" target=\"_parent\"><img src=\"https://colab.research.google.com/assets/colab-badge.svg\" alt=\"Open In Colab\"/></a>"
      ]
    },
    {
      "cell_type": "markdown",
      "metadata": {
        "id": "ZoF7GYugjVUJ"
      },
      "source": [
        "# **Collections in Python**"
      ]
    },
    {
      "cell_type": "markdown",
      "metadata": {
        "id": "M6zKp2WejjUw"
      },
      "source": [
        "Python programming language has four collection data types- **list, tuple, sets and dictionary**. But python also comes with a built-in module known as collections which has specialized data structures which basically covers for the shortcomings of the four data types. "
      ]
    },
    {
      "cell_type": "markdown",
      "metadata": {
        "id": "Oxb7sqFy4dEw"
      },
      "source": [
        "## **What Are Collections In Python?**"
      ]
    },
    {
      "cell_type": "markdown",
      "metadata": {
        "id": "XESbhmOyj0jE"
      },
      "source": [
        "Collections in python are basically container data types, namely lists, sets, tuples, dictionary. They have different characteristics based on the declaration and the usage.\n",
        "\n",
        "\n",
        "*   A list is declared in square brackets, it is mutable, stores duplicate values and elements can be accessed using indexes.\n",
        "*   A tuple is declared in () brackets, it is ordered and immutable in nature, although duplicate entries can be there inside a tuple.\n",
        "*   A set is unordered and declared in square brackets. It is not indexed and does not have duplicate entries as well.\n",
        "\n",
        "*   A dictionary declared in {} brackets, ithas key value pairs and is mutable in nature. We use square brackets to declare a dictionary."
      ]
    },
    {
      "cell_type": "markdown",
      "metadata": {
        "id": "_zZtZCD94Vo0"
      },
      "source": [
        "## **Specialized Collection Data Structures**"
      ]
    },
    {
      "cell_type": "markdown",
      "metadata": {
        "id": "HGfy3GfZkhsd"
      },
      "source": [
        "Collections module in python implements specialized data structures which provide alternative to python’s built-in container data types. Following are the specialized data structures in collections module.\n",
        "\n",
        "*    namedtuple( )\n",
        "*deque\n",
        "*Chainmap\n",
        "*Counter\n",
        "*OrderedDict\n",
        "*defaultdict\n",
        "*UserDict\n",
        "*UserList\n",
        "*UserString"
      ]
    },
    {
      "cell_type": "markdown",
      "metadata": {
        "id": "EM6r9EG0q1LU"
      },
      "source": [
        "### **namedtuple()**\n",
        "Named tuple returns a tuple with a named entry. This means that there will be a named assigned to each value inside a tuple.\n",
        "\n",
        "With a named tuple, it becomes easier to access values because you’re relying on something that is more informative than just index numbers.\n",
        "\n"
      ]
    },
    {
      "cell_type": "code",
      "metadata": {
        "colab": {
          "base_uri": "https://localhost:8080/"
        },
        "id": "5AlnXM7tjO0G",
        "outputId": "e543ad98-9057-402d-fe76-d126ea879220"
      },
      "source": [
        "# first we need to import nammedtuple from collection module\n",
        "from collections import namedtuple\n",
        "# When using namedtuple(), you’ll need to set up the data structure first. Then you can add values to it.\n",
        "studentList = namedtuple('students', 'name,age,degree')\n",
        "student1 = studentList('Raushan', 21, 'Btech')\n",
        "student1"
      ],
      "execution_count": 2,
      "outputs": [
        {
          "output_type": "execute_result",
          "data": {
            "text/plain": [
              "students(name='Raushan', age=21, degree='Btech')"
            ]
          },
          "metadata": {
            "tags": []
          },
          "execution_count": 2
        }
      ]
    },
    {
      "cell_type": "code",
      "metadata": {
        "colab": {
          "base_uri": "https://localhost:8080/",
          "height": 35
        },
        "id": "zCUifuz4uHnT",
        "outputId": "9c676ba5-b7c2-4193-f094-2e1e9cc96b55"
      },
      "source": [
        "student1.name     #accessing the elements from namedtuple"
      ],
      "execution_count": 4,
      "outputs": [
        {
          "output_type": "execute_result",
          "data": {
            "application/vnd.google.colaboratory.intrinsic+json": {
              "type": "string"
            },
            "text/plain": [
              "'Raushan'"
            ]
          },
          "metadata": {
            "tags": []
          },
          "execution_count": 4
        }
      ]
    },
    {
      "cell_type": "code",
      "metadata": {
        "colab": {
          "base_uri": "https://localhost:8080/",
          "height": 180
        },
        "id": "Q_VdczQZwfWT",
        "outputId": "a65443f7-6494-460b-e86a-909cb7ccd9fd"
      },
      "source": [
        "#Like its regular counterpart, a python namedtuple is immutable. We can’t change its attributes.\n",
        "student1.name='raushan'"
      ],
      "execution_count": 5,
      "outputs": [
        {
          "output_type": "error",
          "ename": "AttributeError",
          "evalue": "ignored",
          "traceback": [
            "\u001b[0;31m---------------------------------------------------------------------------\u001b[0m",
            "\u001b[0;31mAttributeError\u001b[0m                            Traceback (most recent call last)",
            "\u001b[0;32m<ipython-input-5-233cc86a9aa3>\u001b[0m in \u001b[0;36m<module>\u001b[0;34m()\u001b[0m\n\u001b[1;32m      1\u001b[0m \u001b[0;31m#Like its regular counterpart, a python namedtuple is immutable. We can’t change its attributes.\u001b[0m\u001b[0;34m\u001b[0m\u001b[0;34m\u001b[0m\u001b[0;34m\u001b[0m\u001b[0m\n\u001b[0;32m----> 2\u001b[0;31m \u001b[0mstudent1\u001b[0m\u001b[0;34m.\u001b[0m\u001b[0mname\u001b[0m\u001b[0;34m=\u001b[0m\u001b[0;34m'raushan'\u001b[0m\u001b[0;34m\u001b[0m\u001b[0;34m\u001b[0m\u001b[0m\n\u001b[0m",
            "\u001b[0;31mAttributeError\u001b[0m: can't set attribute"
          ]
        }
      ]
    },
    {
      "cell_type": "code",
      "metadata": {
        "colab": {
          "base_uri": "https://localhost:8080/"
        },
        "id": "JKhGwkiyw0db",
        "outputId": "48e3b224-1e13-44a7-e6b3-b5c7c8c5a489"
      },
      "source": [
        "#A namedtuple in Python is much like a dictionary, but if we want to convert it into one, we can:\n",
        "\n",
        "student1._asdict()"
      ],
      "execution_count": 6,
      "outputs": [
        {
          "output_type": "execute_result",
          "data": {
            "text/plain": [
              "OrderedDict([('name', 'Raushan'), ('age', 21), ('degree', 'Btech')])"
            ]
          },
          "metadata": {
            "tags": []
          },
          "execution_count": 6
        }
      ]
    },
    {
      "cell_type": "code",
      "metadata": {
        "colab": {
          "base_uri": "https://localhost:8080/"
        },
        "id": "Mr4Btl6WxJGz",
        "outputId": "46de92cd-e67e-490a-c7a9-9e0feab13a70"
      },
      "source": [
        "#You can also create a namedtuple using _make with a list\n",
        "student2 = studentList._make(['Rahul', 28, 'M.tech'])\n",
        "student2"
      ],
      "execution_count": 9,
      "outputs": [
        {
          "output_type": "execute_result",
          "data": {
            "text/plain": [
              "students(name='Rahul', age=28, degree='M.tech')"
            ]
          },
          "metadata": {
            "tags": []
          },
          "execution_count": 9
        }
      ]
    },
    {
      "cell_type": "code",
      "metadata": {
        "colab": {
          "base_uri": "https://localhost:8080/"
        },
        "id": "i-01MUj7xv2s",
        "outputId": "25f0f198-9cea-4704-dc83-25c99c03a71f"
      },
      "source": [
        "#Checking what fields belong to a Python tuple using _fields attribute.\n",
        "student2._fields"
      ],
      "execution_count": 10,
      "outputs": [
        {
          "output_type": "execute_result",
          "data": {
            "text/plain": [
              "('name', 'age', 'degree')"
            ]
          },
          "metadata": {
            "tags": []
          },
          "execution_count": 10
        }
      ]
    },
    {
      "cell_type": "markdown",
      "metadata": {
        "id": "W3UyyWAEyStk"
      },
      "source": [
        "**Benefits of Python Namedtuple**\n",
        "\n",
        "1. Unlike a regular tuple, python namedtuple can also access values using names of the fields.\n",
        "2.  Python namedtuple is just as memory-efficient as a regular tuple, because it does not have per-instance dictionaries. This is also why it is faster than a dictionary."
      ]
    },
    {
      "cell_type": "markdown",
      "metadata": {
        "id": "czkjwRPpybj9"
      },
      "source": [
        "### **deque**\n",
        "deque — pronounced ‘deck’ — is an optimized list that lets you easily insert and delete values"
      ]
    },
    {
      "cell_type": "code",
      "metadata": {
        "colab": {
          "base_uri": "https://localhost:8080/"
        },
        "id": "8XvuGYRCzx8K",
        "outputId": "ad9aaf4d-79f6-497d-b5a3-0ca82b15bc94"
      },
      "source": [
        "# first we need to import dequeue from collection module\n",
        "from collections import deque\n",
        "num = [23,34,5,6,78]\n",
        "d1 = deque(num)\n",
        "d1"
      ],
      "execution_count": 11,
      "outputs": [
        {
          "output_type": "execute_result",
          "data": {
            "text/plain": [
              "deque([23, 34, 5, 6, 78])"
            ]
          },
          "metadata": {
            "tags": []
          },
          "execution_count": 11
        }
      ]
    },
    {
      "cell_type": "code",
      "metadata": {
        "colab": {
          "base_uri": "https://localhost:8080/"
        },
        "id": "x57TJsdr0pRx",
        "outputId": "d6afb70a-4fb6-48d0-d66a-68caa8c071a5"
      },
      "source": [
        "#To add values at the end, we can use append()\n",
        "d1.append(53)\n",
        "d1"
      ],
      "execution_count": 12,
      "outputs": [
        {
          "output_type": "execute_result",
          "data": {
            "text/plain": [
              "deque([23, 34, 5, 6, 78, 53])"
            ]
          },
          "metadata": {
            "tags": []
          },
          "execution_count": 12
        }
      ]
    },
    {
      "cell_type": "code",
      "metadata": {
        "colab": {
          "base_uri": "https://localhost:8080/"
        },
        "id": "KCkb4aqF1CWd",
        "outputId": "b6c0afca-76e7-43c3-e1d7-46582bc0bd9f"
      },
      "source": [
        "#To add values at the beginning, we can use appendleft()\n",
        "d1.appendleft(86)\n",
        "d1"
      ],
      "execution_count": 13,
      "outputs": [
        {
          "output_type": "execute_result",
          "data": {
            "text/plain": [
              "deque([86, 23, 34, 5, 6, 78, 53])"
            ]
          },
          "metadata": {
            "tags": []
          },
          "execution_count": 13
        }
      ]
    },
    {
      "cell_type": "code",
      "metadata": {
        "colab": {
          "base_uri": "https://localhost:8080/"
        },
        "id": "PQjMfbW71VcN",
        "outputId": "008c8559-519b-4d43-b690-e96860b84816"
      },
      "source": [
        "#To delete values from the end and return, we can use pop()\n",
        "d1.pop()"
      ],
      "execution_count": 14,
      "outputs": [
        {
          "output_type": "execute_result",
          "data": {
            "text/plain": [
              "53"
            ]
          },
          "metadata": {
            "tags": []
          },
          "execution_count": 14
        }
      ]
    },
    {
      "cell_type": "code",
      "metadata": {
        "colab": {
          "base_uri": "https://localhost:8080/"
        },
        "id": "gFzGmD_A1jf_",
        "outputId": "56e67727-0c92-4f9c-dde3-81219997b1e9"
      },
      "source": [
        "#To delete values from the beginning and return, we can use popleft()\n",
        "d1.popleft()"
      ],
      "execution_count": 15,
      "outputs": [
        {
          "output_type": "execute_result",
          "data": {
            "text/plain": [
              "86"
            ]
          },
          "metadata": {
            "tags": []
          },
          "execution_count": 15
        }
      ]
    },
    {
      "cell_type": "code",
      "metadata": {
        "colab": {
          "base_uri": "https://localhost:8080/"
        },
        "id": "eRlCLSia1yDV",
        "outputId": "89761a6f-500c-42e9-8630-92aacfdccebb"
      },
      "source": [
        "#using extend and extendleft function\n",
        "d1.extend([45,8])\n",
        "d1.extendleft([98,87])\n",
        "d1"
      ],
      "execution_count": 16,
      "outputs": [
        {
          "output_type": "execute_result",
          "data": {
            "text/plain": [
              "deque([87, 98, 23, 34, 5, 6, 78, 45, 8])"
            ]
          },
          "metadata": {
            "tags": []
          },
          "execution_count": 16
        }
      ]
    },
    {
      "cell_type": "code",
      "metadata": {
        "colab": {
          "base_uri": "https://localhost:8080/"
        },
        "id": "sNm5eRiB2koh",
        "outputId": "4c30309f-05cb-4cd9-b2f2-553420d9ed61"
      },
      "source": [
        "d1.reverse()\n",
        "d1"
      ],
      "execution_count": 17,
      "outputs": [
        {
          "output_type": "execute_result",
          "data": {
            "text/plain": [
              "deque([8, 45, 78, 6, 5, 34, 23, 98, 87])"
            ]
          },
          "metadata": {
            "tags": []
          },
          "execution_count": 17
        }
      ]
    },
    {
      "cell_type": "markdown",
      "metadata": {
        "id": "Rypaqzh04Bbs"
      },
      "source": [
        "### **ChainMap**\n",
        "ChainMap is a dictionary like class for a single view of multiple mappings. In a nutshell, what this means is that it returns a list of several dictionaries."
      ]
    },
    {
      "cell_type": "code",
      "metadata": {
        "colab": {
          "base_uri": "https://localhost:8080/"
        },
        "id": "WkIh1Zjw5Euo",
        "outputId": "5bcce097-8e92-4621-c4e4-40c11b314f84"
      },
      "source": [
        "# first we need to import chainmap from collection module\n",
        "from collections import ChainMap\n",
        "d1 = {1:'a', 2:'b', 3:'c'}\n",
        "d2 = {4:'d', 5:'e'}\n",
        "m1 = ChainMap(d1,d2)   #ChainMap will make a single list with both the dictionaries in it\n",
        "m1"
      ],
      "execution_count": 5,
      "outputs": [
        {
          "output_type": "execute_result",
          "data": {
            "text/plain": [
              "ChainMap({1: 'a', 2: 'b', 3: 'c'}, {4: 'd', 5: 'e'})"
            ]
          },
          "metadata": {
            "tags": []
          },
          "execution_count": 5
        }
      ]
    },
    {
      "cell_type": "code",
      "metadata": {
        "colab": {
          "base_uri": "https://localhost:8080/",
          "height": 35
        },
        "id": "Xmrzw6vCjcST",
        "outputId": "9b953fea-7c25-40e6-bcf3-da85615a7e9d"
      },
      "source": [
        "m1[1]    #To access or insert elements we use the keys as index."
      ],
      "execution_count": 6,
      "outputs": [
        {
          "output_type": "execute_result",
          "data": {
            "application/vnd.google.colaboratory.intrinsic+json": {
              "type": "string"
            },
            "text/plain": [
              "'a'"
            ]
          },
          "metadata": {
            "tags": []
          },
          "execution_count": 6
        }
      ]
    },
    {
      "cell_type": "code",
      "metadata": {
        "colab": {
          "base_uri": "https://localhost:8080/",
          "height": 35
        },
        "id": "qNsoyLyHjgIZ",
        "outputId": "e69a9996-b4db-4780-f98d-4cbb1cded70c"
      },
      "source": [
        "m1[4]"
      ],
      "execution_count": 7,
      "outputs": [
        {
          "output_type": "execute_result",
          "data": {
            "application/vnd.google.colaboratory.intrinsic+json": {
              "type": "string"
            },
            "text/plain": [
              "'d'"
            ]
          },
          "metadata": {
            "tags": []
          },
          "execution_count": 7
        }
      ]
    },
    {
      "cell_type": "code",
      "metadata": {
        "colab": {
          "base_uri": "https://localhost:8080/"
        },
        "id": "7u8srjwEjxW-",
        "outputId": "084150ff-8079-44bd-ebb1-2aca47344d6f"
      },
      "source": [
        "#to add a new dictionary in the ChainMap we should use the following approach\n",
        "d3 = {6:'f', 7:'g', 8:'h'}\n",
        "m2 = m1.new_child(d3)\n",
        "m2"
      ],
      "execution_count": 8,
      "outputs": [
        {
          "output_type": "execute_result",
          "data": {
            "text/plain": [
              "ChainMap({6: 'f', 7: 'g', 8: 'h'}, {1: 'a', 2: 'b', 3: 'c'}, {4: 'd', 5: 'e'})"
            ]
          },
          "metadata": {
            "tags": []
          },
          "execution_count": 8
        }
      ]
    },
    {
      "cell_type": "markdown",
      "metadata": {
        "id": "nb1FFJ-Pl2Ac"
      },
      "source": [
        "**Access Operations**\n",
        "\n",
        "keys() :- This function is used to display all the keys of all the dictionaries in ChainMap.\n",
        "\n",
        "values() :- This function is used to display values of all the dictionaries in ChainMap.\n",
        "\n",
        "maps :- This function is used to display keys with corresponding values of all the dictionaries in ChainMap."
      ]
    },
    {
      "cell_type": "code",
      "metadata": {
        "colab": {
          "base_uri": "https://localhost:8080/"
        },
        "id": "BlbLHzUzkzCc",
        "outputId": "4a3b756b-2a47-42f3-8318-c4ad322fa45c"
      },
      "source": [
        "list(m2.keys())  #to display keys from each dictionary"
      ],
      "execution_count": 12,
      "outputs": [
        {
          "output_type": "execute_result",
          "data": {
            "text/plain": [
              "[4, 5, 1, 2, 3, 6, 7, 8]"
            ]
          },
          "metadata": {
            "tags": []
          },
          "execution_count": 12
        }
      ]
    },
    {
      "cell_type": "code",
      "metadata": {
        "colab": {
          "base_uri": "https://localhost:8080/"
        },
        "id": "p2tUom7blI1J",
        "outputId": "b9fe3063-fbec-4154-dcf7-9cc3d8269f8f"
      },
      "source": [
        "list(m2.values())        #to display values from each dictionary"
      ],
      "execution_count": 15,
      "outputs": [
        {
          "output_type": "execute_result",
          "data": {
            "text/plain": [
              "['d', 'e', 'a', 'b', 'c', 'f', 'g', 'h']"
            ]
          },
          "metadata": {
            "tags": []
          },
          "execution_count": 15
        }
      ]
    },
    {
      "cell_type": "code",
      "metadata": {
        "colab": {
          "base_uri": "https://localhost:8080/"
        },
        "id": "hvpz_1qQnIPI",
        "outputId": "99c93544-3f4b-44cf-c2a5-d7b1f0c3ac75"
      },
      "source": [
        "m2.maps           #printing chainMap using maps"
      ],
      "execution_count": 19,
      "outputs": [
        {
          "output_type": "execute_result",
          "data": {
            "text/plain": [
              "[{6: 'f', 7: 'g', 8: 'h'}, {1: 'a', 2: 'b', 3: 'c'}, {4: 'd', 5: 'e'}]"
            ]
          },
          "metadata": {
            "tags": []
          },
          "execution_count": 19
        }
      ]
    },
    {
      "cell_type": "code",
      "metadata": {
        "colab": {
          "base_uri": "https://localhost:8080/"
        },
        "id": "Ba6Bt0pmoeBa",
        "outputId": "63bcd63e-7501-49e1-a97f-917d7b4b222b"
      },
      "source": [
        "m1 = ChainMap(d1,d2)\n",
        "m1\n",
        "m1.maps = reversed(m1.maps)       # reversing the ChainMap\n",
        "m1"
      ],
      "execution_count": 37,
      "outputs": [
        {
          "output_type": "execute_result",
          "data": {
            "text/plain": [
              "ChainMap({4: 'd', 5: 'e'}, {1: 'a', 2: 'b', 3: 'c'})"
            ]
          },
          "metadata": {
            "tags": []
          },
          "execution_count": 37
        }
      ]
    },
    {
      "cell_type": "code",
      "metadata": {
        "colab": {
          "base_uri": "https://localhost:8080/",
          "height": 35
        },
        "id": "k819Wq-HsL0D",
        "outputId": "ee62f04f-2368-4594-d5e2-fb2e1d7953a0"
      },
      "source": [
        "m1 = ChainMap(d1,d2)\n",
        "m1.pop(2)"
      ],
      "execution_count": 46,
      "outputs": [
        {
          "output_type": "execute_result",
          "data": {
            "application/vnd.google.colaboratory.intrinsic+json": {
              "type": "string"
            },
            "text/plain": [
              "'b'"
            ]
          },
          "metadata": {
            "tags": []
          },
          "execution_count": 46
        }
      ]
    },
    {
      "cell_type": "markdown",
      "metadata": {
        "id": "rkD2R-fQ4jLF"
      },
      "source": [
        "### **Counter**\n",
        "Counter is a dictionary subclass for counting hashable objects. What this means is that it will count all the different values in the list and return a dictionary."
      ]
    },
    {
      "cell_type": "code",
      "metadata": {
        "colab": {
          "base_uri": "https://localhost:8080/"
        },
        "id": "g9_np8IP5Feu",
        "outputId": "f97c76b9-7dad-4d82-f24b-a926bfaf1892"
      },
      "source": [
        "# first we need to import counter from collection module\n",
        "from collections import Counter\n",
        "mylist = [2,23,34,5,4,5,56,5,6,2]\n",
        "c = Counter(mylist)\n",
        "c"
      ],
      "execution_count": 48,
      "outputs": [
        {
          "output_type": "execute_result",
          "data": {
            "text/plain": [
              "Counter({2: 2, 4: 1, 5: 3, 6: 1, 23: 1, 34: 1, 56: 1})"
            ]
          },
          "metadata": {
            "tags": []
          },
          "execution_count": 48
        }
      ]
    },
    {
      "cell_type": "markdown",
      "metadata": {
        "id": "0b0fYQcCu-ql"
      },
      "source": [
        "What Counter() is basically doing is aggregating up your duplicates and returning counted values as a dictionary from a given list. <br> Counter() works for any iterable object. <br> This means that it will also work for **tuples and sets.**"
      ]
    },
    {
      "cell_type": "code",
      "metadata": {
        "colab": {
          "base_uri": "https://localhost:8080/"
        },
        "id": "571LZed9uIfa",
        "outputId": "af0b8a6e-e05d-4f5a-c303-c58543dcb285"
      },
      "source": [
        "c[4]     #we can access it's elements same as dictionary"
      ],
      "execution_count": 49,
      "outputs": [
        {
          "output_type": "execute_result",
          "data": {
            "text/plain": [
              "1"
            ]
          },
          "metadata": {
            "tags": []
          },
          "execution_count": 49
        }
      ]
    },
    {
      "cell_type": "code",
      "metadata": {
        "colab": {
          "base_uri": "https://localhost:8080/"
        },
        "id": "0_GWuIuQuYWP",
        "outputId": "54ad8bce-3f5b-4972-ea9b-3990468d7391"
      },
      "source": [
        "#element() returns a list containing all the elements in the Counter\n",
        "list(c.elements())   #We can easily replace list() with tuple() and set() , depending on the data needs."
      ],
      "execution_count": 53,
      "outputs": [
        {
          "output_type": "execute_result",
          "data": {
            "text/plain": [
              "[2, 2, 23, 34, 5, 5, 5, 4, 56, 6]"
            ]
          },
          "metadata": {
            "tags": []
          },
          "execution_count": 53
        }
      ]
    },
    {
      "cell_type": "code",
      "metadata": {
        "colab": {
          "base_uri": "https://localhost:8080/"
        },
        "id": "-CWP3S4YvcBz",
        "outputId": "b4213f89-4a5a-449a-f738-a26b9f691ef9"
      },
      "source": [
        "tuple(c.elements())"
      ],
      "execution_count": 54,
      "outputs": [
        {
          "output_type": "execute_result",
          "data": {
            "text/plain": [
              "(2, 2, 23, 34, 5, 5, 5, 4, 56, 6)"
            ]
          },
          "metadata": {
            "tags": []
          },
          "execution_count": 54
        }
      ]
    },
    {
      "cell_type": "code",
      "metadata": {
        "colab": {
          "base_uri": "https://localhost:8080/"
        },
        "id": "1O_D3_e2viNa",
        "outputId": "5bfd5f0a-7935-4f26-ffa5-de21f925de47"
      },
      "source": [
        "set(c.elements())"
      ],
      "execution_count": 56,
      "outputs": [
        {
          "output_type": "execute_result",
          "data": {
            "text/plain": [
              "{2, 4, 5, 6, 23, 34, 56}"
            ]
          },
          "metadata": {
            "tags": []
          },
          "execution_count": 56
        }
      ]
    },
    {
      "cell_type": "code",
      "metadata": {
        "colab": {
          "base_uri": "https://localhost:8080/"
        },
        "id": "LzQNZjAjuo7z",
        "outputId": "9a6e3cfb-b290-4f7b-957d-4d33f4245e84"
      },
      "source": [
        "c.most_common()   #This will return a sorted list."
      ],
      "execution_count": 52,
      "outputs": [
        {
          "output_type": "execute_result",
          "data": {
            "text/plain": [
              "[(5, 3), (2, 2), (23, 1), (34, 1), (4, 1), (56, 1), (6, 1)]"
            ]
          },
          "metadata": {
            "tags": []
          },
          "execution_count": 52
        }
      ]
    },
    {
      "cell_type": "code",
      "metadata": {
        "colab": {
          "base_uri": "https://localhost:8080/"
        },
        "id": "tDP37VcTwkWk",
        "outputId": "94f89455-ed80-4192-e795-3208d9060398"
      },
      "source": [
        "d2 = {2:1, 23:1, 5:1}\n",
        "c.subtract(d2)   #It takes an iterable object as an argument and deducts the count of the elements in the Counter.\n",
        "c"
      ],
      "execution_count": 57,
      "outputs": [
        {
          "output_type": "execute_result",
          "data": {
            "text/plain": [
              "Counter({2: 1, 4: 1, 5: 2, 6: 1, 23: 0, 34: 1, 56: 1})"
            ]
          },
          "metadata": {
            "tags": []
          },
          "execution_count": 57
        }
      ]
    },
    {
      "cell_type": "markdown",
      "metadata": {
        "id": "WpzPae_h4pa0"
      },
      "source": [
        "### **OrderedDict**\n",
        "OrderedDict is a dictionary subclass that remembers the order that the entries were added. \n",
        "\n",
        "Basically, even if you change the value of the key, the position will not be changed because of the order in which it was inserted in the dictionary."
      ]
    },
    {
      "cell_type": "code",
      "metadata": {
        "colab": {
          "base_uri": "https://localhost:8080/"
        },
        "id": "no-T2q495GNp",
        "outputId": "7dd99929-1781-4a10-b27a-4769ae6f0925"
      },
      "source": [
        "# first we need to import orderedDict from collection module\n",
        "from collections import OrderedDict\n",
        "od1 = OrderedDict()\n",
        "od1[0] = 'r'\n",
        "od1[1] = 'a'\n",
        "od1[2] = 'u'\n",
        "od1[3] = 's'\n",
        "od1[4] = 'h'\n",
        "od1[5] = 'a'\n",
        "od1[6] = 'n'\n",
        "od1"
      ],
      "execution_count": 61,
      "outputs": [
        {
          "output_type": "execute_result",
          "data": {
            "text/plain": [
              "OrderedDict([(0, 'r'),\n",
              "             (1, 'a'),\n",
              "             (2, 'u'),\n",
              "             (3, 's'),\n",
              "             (4, 'h'),\n",
              "             (5, 'a'),\n",
              "             (6, 'n')])"
            ]
          },
          "metadata": {
            "tags": []
          },
          "execution_count": 61
        }
      ]
    },
    {
      "cell_type": "code",
      "metadata": {
        "colab": {
          "base_uri": "https://localhost:8080/"
        },
        "id": "G3qwZr-pxpZw",
        "outputId": "a2e50710-6dc1-4762-fe58-b4a7c775542b"
      },
      "source": [
        "od1.keys()"
      ],
      "execution_count": 60,
      "outputs": [
        {
          "output_type": "execute_result",
          "data": {
            "text/plain": [
              "odict_keys([0, 1, 2, 3, 4, 5, 6])"
            ]
          },
          "metadata": {
            "tags": []
          },
          "execution_count": 60
        }
      ]
    },
    {
      "cell_type": "code",
      "metadata": {
        "colab": {
          "base_uri": "https://localhost:8080/",
          "height": 35
        },
        "id": "Hp9fKhpTxsR-",
        "outputId": "c3e707f1-1109-416a-f676-a9df88831abf"
      },
      "source": [
        "list(od1.values())"
      ],
      "execution_count": 65,
      "outputs": [
        {
          "output_type": "execute_result",
          "data": {
            "application/vnd.google.colaboratory.intrinsic+json": {
              "type": "string"
            },
            "text/plain": [
              "\"['r', 'a', 'u', 's', 'h', 'a', 'n']\""
            ]
          },
          "metadata": {
            "tags": []
          },
          "execution_count": 65
        }
      ]
    },
    {
      "cell_type": "code",
      "metadata": {
        "colab": {
          "base_uri": "https://localhost:8080/"
        },
        "id": "UZXTbhuvx_Nc",
        "outputId": "90b5c4ca-72ce-4d41-ef6d-4d061fa4af63"
      },
      "source": [
        "#Even if we change the value of the key, the order will not change in the output.\n",
        "od1[0] = 'R'\n",
        "od1"
      ],
      "execution_count": 66,
      "outputs": [
        {
          "output_type": "execute_result",
          "data": {
            "text/plain": [
              "OrderedDict([(0, 'R'),\n",
              "             (1, 'a'),\n",
              "             (2, 'u'),\n",
              "             (3, 's'),\n",
              "             (4, 'h'),\n",
              "             (5, 'a'),\n",
              "             (6, 'n')])"
            ]
          },
          "metadata": {
            "tags": []
          },
          "execution_count": 66
        }
      ]
    },
    {
      "cell_type": "code",
      "metadata": {
        "colab": {
          "base_uri": "https://localhost:8080/"
        },
        "id": "Rw1Kw3YPyXR1",
        "outputId": "5dfb478f-7b9f-4d05-c170-6a43e15c53e4"
      },
      "source": [
        "od1 = dict()\n",
        "od1[0] = 'r'\n",
        "od1[1] = 'a'\n",
        "od1[2] = 'u'\n",
        "od1[3] = 's'\n",
        "od1[4] = 'h'\n",
        "od1[5] = 'a'\n",
        "od1[6] = 'n'\n",
        "for key,value in od1.items():\n",
        "  print(key,value)\n",
        "od1[0]= 'R'\n",
        "for key,value in od1.items():\n",
        "  print(key,value)"
      ],
      "execution_count": 74,
      "outputs": [
        {
          "output_type": "stream",
          "text": [
            "0 r\n",
            "1 a\n",
            "2 u\n",
            "3 s\n",
            "4 h\n",
            "5 a\n",
            "6 n\n",
            "0 R\n",
            "1 a\n",
            "2 u\n",
            "3 s\n",
            "4 h\n",
            "5 a\n",
            "6 n\n"
          ],
          "name": "stdout"
        }
      ]
    },
    {
      "cell_type": "markdown",
      "metadata": {
        "id": "DmxUJvkO4vjI"
      },
      "source": [
        "### **defaultdict**\n",
        "defaultdict is a dictionary subclass that calls a factory function to supply missing values. What this means is that it won’t throw any errors when a missing value is called in a dictionary.\n",
        "\n",
        "**It’s good to note that with defaultdict, you will need to specify the type**"
      ]
    },
    {
      "cell_type": "code",
      "metadata": {
        "colab": {
          "base_uri": "https://localhost:8080/"
        },
        "id": "I77XLjlk5G9O",
        "outputId": "d0a5cacf-b027-484d-ea96-6b4e2d31691c"
      },
      "source": [
        "# first we need to import defaultDict from collection module\n",
        "from collections import defaultdict\n",
        "dd1 = defaultdict(int)\n",
        "dd1[0] = 'r'\n",
        "dd1[1] = 'a'\n",
        "dd1[2] = 'u'\n",
        "dd1[3] = 's'\n",
        "dd1[4] = 'h'\n",
        "dd1[5] = 'a'\n",
        "dd1[6] = 'n'\n",
        "dd1"
      ],
      "execution_count": 76,
      "outputs": [
        {
          "output_type": "execute_result",
          "data": {
            "text/plain": [
              "defaultdict(int, {0: 'r', 1: 'a', 2: 'u', 3: 's', 4: 'h', 5: 'a', 6: 'n'})"
            ]
          },
          "metadata": {
            "tags": []
          },
          "execution_count": 76
        }
      ]
    },
    {
      "cell_type": "code",
      "metadata": {
        "colab": {
          "base_uri": "https://localhost:8080/",
          "height": 35
        },
        "id": "Rb1uiYyn1GBE",
        "outputId": "529bd47a-3fdf-44ab-b013-7cf8372f268f"
      },
      "source": [
        "dd1[0]"
      ],
      "execution_count": 77,
      "outputs": [
        {
          "output_type": "execute_result",
          "data": {
            "application/vnd.google.colaboratory.intrinsic+json": {
              "type": "string"
            },
            "text/plain": [
              "'r'"
            ]
          },
          "metadata": {
            "tags": []
          },
          "execution_count": 77
        }
      ]
    },
    {
      "cell_type": "code",
      "metadata": {
        "colab": {
          "base_uri": "https://localhost:8080/"
        },
        "id": "ql1KnzkL1I_S",
        "outputId": "78f7ce05-2bbc-46cf-b4c6-f2e500589640"
      },
      "source": [
        "dd1[9]      #see it hasn’t thrown any errors when a missing value is called alike in a dictionary., inspite it add the key with 0 as value"
      ],
      "execution_count": 78,
      "outputs": [
        {
          "output_type": "execute_result",
          "data": {
            "text/plain": [
              "0"
            ]
          },
          "metadata": {
            "tags": []
          },
          "execution_count": 78
        }
      ]
    },
    {
      "cell_type": "code",
      "metadata": {
        "colab": {
          "base_uri": "https://localhost:8080/"
        },
        "id": "EIiLXU3-1dMo",
        "outputId": "336f9c5a-eada-4d6a-b520-3a7c166d396b"
      },
      "source": [
        "dd1.keys()"
      ],
      "execution_count": 79,
      "outputs": [
        {
          "output_type": "execute_result",
          "data": {
            "text/plain": [
              "dict_keys([0, 1, 2, 3, 4, 5, 6, 9])"
            ]
          },
          "metadata": {
            "tags": []
          },
          "execution_count": 79
        }
      ]
    },
    {
      "cell_type": "code",
      "metadata": {
        "colab": {
          "base_uri": "https://localhost:8080/"
        },
        "id": "vhH0vDq51f97",
        "outputId": "06b26bc1-787c-4887-8c34-abe4e2afe98c"
      },
      "source": [
        "dd1.items()"
      ],
      "execution_count": 80,
      "outputs": [
        {
          "output_type": "execute_result",
          "data": {
            "text/plain": [
              "dict_items([(0, 'r'), (1, 'a'), (2, 'u'), (3, 's'), (4, 'h'), (5, 'a'), (6, 'n'), (9, 0)])"
            ]
          },
          "metadata": {
            "tags": []
          },
          "execution_count": 80
        }
      ]
    },
    {
      "cell_type": "code",
      "metadata": {
        "colab": {
          "base_uri": "https://localhost:8080/"
        },
        "id": "8XPCcrTa1i40",
        "outputId": "9f9b06d6-4fe3-47d4-b7d3-1a178ed234f7"
      },
      "source": [
        "dd1.values()"
      ],
      "execution_count": 81,
      "outputs": [
        {
          "output_type": "execute_result",
          "data": {
            "text/plain": [
              "dict_values(['r', 'a', 'u', 's', 'h', 'a', 'n', 0])"
            ]
          },
          "metadata": {
            "tags": []
          },
          "execution_count": 81
        }
      ]
    },
    {
      "cell_type": "code",
      "metadata": {
        "colab": {
          "base_uri": "https://localhost:8080/",
          "height": 35
        },
        "id": "EA1oTnXP1lfE",
        "outputId": "731bc356-245b-4c65-b2a1-0f370b461aee"
      },
      "source": [
        "dd1.get(0)     #it returns the value at specified key"
      ],
      "execution_count": 82,
      "outputs": [
        {
          "output_type": "execute_result",
          "data": {
            "application/vnd.google.colaboratory.intrinsic+json": {
              "type": "string"
            },
            "text/plain": [
              "'r'"
            ]
          },
          "metadata": {
            "tags": []
          },
          "execution_count": 82
        }
      ]
    },
    {
      "cell_type": "code",
      "metadata": {
        "colab": {
          "base_uri": "https://localhost:8080/"
        },
        "id": "Pqbcw73t1uME",
        "outputId": "8693d04a-698e-446e-a87c-2d3c571212fe"
      },
      "source": [
        "dd1.popitem() "
      ],
      "execution_count": 83,
      "outputs": [
        {
          "output_type": "execute_result",
          "data": {
            "text/plain": [
              "(9, 0)"
            ]
          },
          "metadata": {
            "tags": []
          },
          "execution_count": 83
        }
      ]
    },
    {
      "cell_type": "code",
      "metadata": {
        "colab": {
          "base_uri": "https://localhost:8080/",
          "height": 35
        },
        "id": "MNCY-q4O17uY",
        "outputId": "2d92bb36-499f-4703-b582-992dbe6243b8"
      },
      "source": [
        "dd1.pop(6)"
      ],
      "execution_count": 84,
      "outputs": [
        {
          "output_type": "execute_result",
          "data": {
            "application/vnd.google.colaboratory.intrinsic+json": {
              "type": "string"
            },
            "text/plain": [
              "'n'"
            ]
          },
          "metadata": {
            "tags": []
          },
          "execution_count": 84
        }
      ]
    },
    {
      "cell_type": "markdown",
      "metadata": {
        "id": "pb_TDtl648PO"
      },
      "source": [
        "### **UserDict**\n",
        "This class acts as a wrapper around dictionary objects. The need for this class came from the necessity to subclass directly from dict. It becomes easier to work with this class as the underlying dictionary becomes an attribute."
      ]
    },
    {
      "cell_type": "code",
      "metadata": {
        "id": "82U9ifTM5Hrw"
      },
      "source": [
        "# first we need to import userDict from collection module\n",
        "from collections import UserDict\n",
        "class UserDict([initialdata])     #it takes an dictionary as an attribute"
      ],
      "execution_count": null,
      "outputs": []
    },
    {
      "cell_type": "markdown",
      "metadata": {
        "id": "BIDF4Q0UJ_3y"
      },
      "source": [
        "This class simulates a dictionary. \n",
        "\n",
        "The content of the instance are kept in a regular dictionary which can be accessed with the ‘data’ attribute of the class UserDict. \n",
        "\n",
        "The reference of initial data is not kept, for it to be used for other purposes."
      ]
    },
    {
      "cell_type": "markdown",
      "metadata": {
        "id": "KT16_EPL4-yz"
      },
      "source": [
        "### **UserList**\n",
        "This class acts like a wrapper around the list objects. It is a useful base class for other list like classes which can inherit from them and override the existing methods or even add a fewer new ones as well."
      ]
    },
    {
      "cell_type": "code",
      "metadata": {
        "id": "GPDmQo-O40wk"
      },
      "source": [
        "# first we need to import userList from collection module\n",
        "from collections import UserList\n",
        "class UserList([list])      #it takes an list as an attribute"
      ],
      "execution_count": null,
      "outputs": []
    },
    {
      "cell_type": "markdown",
      "metadata": {
        "id": "87mQlK7xKnKF"
      },
      "source": [
        "It is the class that simulates a list. \n",
        "\n",
        "The contents of the instance are kept in a customary list. \n",
        "\n",
        "The sub-classes of the list are relied upon to offer a constructor which can be called with either no or one contention.\n",
        "\n"
      ]
    }
  ]
}