{
  "nbformat": 4,
  "nbformat_minor": 0,
  "metadata": {
    "colab": {
      "name": "python-basics.ipynb",
      "provenance": [],
      "collapsed_sections": [],
      "toc_visible": true,
      "authorship_tag": "ABX9TyNiQOQfjjmxqFIoqs2U3XIC",
      "include_colab_link": true
    },
    "kernelspec": {
      "name": "python3",
      "display_name": "Python 3"
    },
    "language_info": {
      "name": "python"
    }
  },
  "cells": [
    {
      "cell_type": "markdown",
      "metadata": {
        "id": "view-in-github",
        "colab_type": "text"
      },
      "source": [
        "<a href=\"https://colab.research.google.com/github/raushanrk5/Revising-Python/blob/main/python_basics.ipynb\" target=\"_parent\"><img src=\"https://colab.research.google.com/assets/colab-badge.svg\" alt=\"Open In Colab\"/></a>"
      ]
    },
    {
      "cell_type": "markdown",
      "metadata": {
        "id": "OMiKUHUc0oJ7"
      },
      "source": [
        "# **Python Basics**"
      ]
    },
    {
      "cell_type": "code",
      "metadata": {
        "colab": {
          "base_uri": "https://localhost:8080/"
        },
        "id": "_kmQxeUt1HiE",
        "outputId": "43aeb0e6-a69d-491a-a27c-aa77d75b699c"
      },
      "source": [
        "print('Hello World')"
      ],
      "execution_count": null,
      "outputs": [
        {
          "output_type": "stream",
          "text": [
            "Hello World\n"
          ],
          "name": "stdout"
        }
      ]
    },
    {
      "cell_type": "markdown",
      "metadata": {
        "id": "dBHRw51b11oG"
      },
      "source": [
        "## ***Variables***"
      ]
    },
    {
      "cell_type": "code",
      "metadata": {
        "colab": {
          "base_uri": "https://localhost:8080/"
        },
        "id": "k1nfprf21kfm",
        "outputId": "8ec23b31-8ec8-4a96-cfec-a0cdc43d5cfc"
      },
      "source": [
        "a = 5\n",
        "b = 8\n",
        "print('Sum = ', a+b, 'Product = ', a*b)"
      ],
      "execution_count": null,
      "outputs": [
        {
          "output_type": "stream",
          "text": [
            "Sum =  13 Product =  40\n"
          ],
          "name": "stdout"
        }
      ]
    },
    {
      "cell_type": "markdown",
      "metadata": {
        "id": "leBX5c6I2EqG"
      },
      "source": [
        "## ***Data Types***\n",
        "Number <br>\n",
        "String <br>\n",
        "List <br>\n",
        "Dictionary <br>\n",
        "Tuple <br>\n",
        "Set <br>"
      ]
    },
    {
      "cell_type": "markdown",
      "metadata": {
        "id": "gibjGWSv3mBF"
      },
      "source": [
        "### **Number**"
      ]
    },
    {
      "cell_type": "code",
      "metadata": {
        "colab": {
          "base_uri": "https://localhost:8080/"
        },
        "id": "4eccZPJM1zWU",
        "outputId": "494b085e-d76a-4831-c894-736d21e1acd8"
      },
      "source": [
        "type(a)"
      ],
      "execution_count": null,
      "outputs": [
        {
          "output_type": "execute_result",
          "data": {
            "text/plain": [
              "int"
            ]
          },
          "metadata": {
            "tags": []
          },
          "execution_count": 3
        }
      ]
    },
    {
      "cell_type": "code",
      "metadata": {
        "colab": {
          "base_uri": "https://localhost:8080/"
        },
        "id": "U85mh0Lj3Xk0",
        "outputId": "5469fdc4-6f6d-4c1e-c974-4fb2533dd0c5"
      },
      "source": [
        "type(12.5)"
      ],
      "execution_count": null,
      "outputs": [
        {
          "output_type": "execute_result",
          "data": {
            "text/plain": [
              "float"
            ]
          },
          "metadata": {
            "tags": []
          },
          "execution_count": 4
        }
      ]
    },
    {
      "cell_type": "code",
      "metadata": {
        "colab": {
          "base_uri": "https://localhost:8080/"
        },
        "id": "g1fhqCvB3jlQ",
        "outputId": "e8c7604a-c783-43da-86cd-5566581a135c"
      },
      "source": [
        "d = 10+5j    #a=5\n",
        "print(type(d), a+d)"
      ],
      "execution_count": null,
      "outputs": [
        {
          "output_type": "stream",
          "text": [
            "<class 'complex'> (15+5j)\n"
          ],
          "name": "stdout"
        }
      ]
    },
    {
      "cell_type": "code",
      "metadata": {
        "colab": {
          "base_uri": "https://localhost:8080/"
        },
        "id": "dKM9G2Mn4aOL",
        "outputId": "b9fe1c62-8da2-4cb1-dd99-6804be7434b9"
      },
      "source": [
        "e = a>b    #a=5, b=8\n",
        "e\n",
        "type(e)"
      ],
      "execution_count": null,
      "outputs": [
        {
          "output_type": "execute_result",
          "data": {
            "text/plain": [
              "bool"
            ]
          },
          "metadata": {
            "tags": []
          },
          "execution_count": 8
        }
      ]
    },
    {
      "cell_type": "markdown",
      "metadata": {
        "id": "NR5SHOyX48QZ"
      },
      "source": [
        "### **String**"
      ]
    },
    {
      "cell_type": "code",
      "metadata": {
        "colab": {
          "base_uri": "https://localhost:8080/",
          "height": 35
        },
        "id": "U_I6aQuT45cB",
        "outputId": "6f7f2a66-c24a-4d34-c44c-93728ea9b7c2"
      },
      "source": [
        "str1 = 'Hello'\n",
        "str2 = 'World'\n",
        "name = 'Raushan Kumar'\n",
        "str1+\" \"+str2"
      ],
      "execution_count": null,
      "outputs": [
        {
          "output_type": "execute_result",
          "data": {
            "application/vnd.google.colaboratory.intrinsic+json": {
              "type": "string"
            },
            "text/plain": [
              "'Hello World'"
            ]
          },
          "metadata": {
            "tags": []
          },
          "execution_count": 9
        }
      ]
    },
    {
      "cell_type": "code",
      "metadata": {
        "colab": {
          "base_uri": "https://localhost:8080/"
        },
        "id": "jDF2_N1z6m2f",
        "outputId": "641ecdbf-0bb6-4b21-f8fd-11a979ddf661"
      },
      "source": [
        "print(len(name), name.lower(), name.upper())"
      ],
      "execution_count": null,
      "outputs": [
        {
          "output_type": "stream",
          "text": [
            "13 raushan kumar RAUSHAN KUMAR\n"
          ],
          "name": "stdout"
        }
      ]
    },
    {
      "cell_type": "code",
      "metadata": {
        "colab": {
          "base_uri": "https://localhost:8080/"
        },
        "id": "oBe01Mp26weK",
        "outputId": "a92c5973-cddc-4cd1-ff62-ddffa93edb88"
      },
      "source": [
        "print(name[1], name[-1], name[1:-1])"
      ],
      "execution_count": null,
      "outputs": [
        {
          "output_type": "stream",
          "text": [
            "a r aushan Kuma\n"
          ],
          "name": "stdout"
        }
      ]
    },
    {
      "cell_type": "code",
      "metadata": {
        "colab": {
          "base_uri": "https://localhost:8080/",
          "height": 163
        },
        "id": "1u3LiqK768NX",
        "outputId": "a44c6867-2aa8-4632-f86d-3bfecae8d7ca"
      },
      "source": [
        "name[0] = r    #string is mutable"
      ],
      "execution_count": null,
      "outputs": [
        {
          "output_type": "error",
          "ename": "NameError",
          "evalue": "ignored",
          "traceback": [
            "\u001b[0;31m---------------------------------------------------------------------------\u001b[0m",
            "\u001b[0;31mNameError\u001b[0m                                 Traceback (most recent call last)",
            "\u001b[0;32m<ipython-input-12-b23f7a02638e>\u001b[0m in \u001b[0;36m<module>\u001b[0;34m()\u001b[0m\n\u001b[0;32m----> 1\u001b[0;31m \u001b[0mname\u001b[0m\u001b[0;34m[\u001b[0m\u001b[0;36m0\u001b[0m\u001b[0;34m]\u001b[0m \u001b[0;34m=\u001b[0m \u001b[0mr\u001b[0m    \u001b[0;31m#string is mutable\u001b[0m\u001b[0;34m\u001b[0m\u001b[0;34m\u001b[0m\u001b[0m\n\u001b[0m",
            "\u001b[0;31mNameError\u001b[0m: name 'r' is not defined"
          ]
        }
      ]
    },
    {
      "cell_type": "code",
      "metadata": {
        "colab": {
          "base_uri": "https://localhost:8080/",
          "height": 35
        },
        "id": "9xjMwW-u7EiW",
        "outputId": "0773212c-a33f-4e2e-f36c-b75984aecd03"
      },
      "source": [
        "name.capitalize()    #capitalize the first letter of each word\n",
        "name"
      ],
      "execution_count": null,
      "outputs": [
        {
          "output_type": "execute_result",
          "data": {
            "application/vnd.google.colaboratory.intrinsic+json": {
              "type": "string"
            },
            "text/plain": [
              "'Raushan Kumar'"
            ]
          },
          "metadata": {
            "tags": []
          },
          "execution_count": 13
        }
      ]
    },
    {
      "cell_type": "code",
      "metadata": {
        "colab": {
          "base_uri": "https://localhost:8080/"
        },
        "id": "VtZmX8QG7Tpg",
        "outputId": "ae918135-896b-4c06-9d5a-2e819024b8a1"
      },
      "source": [
        "name.count('a')     #count the occurence of a specific leter"
      ],
      "execution_count": null,
      "outputs": [
        {
          "output_type": "execute_result",
          "data": {
            "text/plain": [
              "3"
            ]
          },
          "metadata": {
            "tags": []
          },
          "execution_count": 15
        }
      ]
    },
    {
      "cell_type": "code",
      "metadata": {
        "colab": {
          "base_uri": "https://localhost:8080/"
        },
        "id": "vNaN5C-47e92",
        "outputId": "b6b5dbd1-36fd-469b-a947-f8f991675f8e"
      },
      "source": [
        "print(name.isupper(), name.islower())        #check if the word is in uppercase, simmilarly for lowercase"
      ],
      "execution_count": null,
      "outputs": [
        {
          "output_type": "stream",
          "text": [
            "False False\n"
          ],
          "name": "stdout"
        }
      ]
    },
    {
      "cell_type": "code",
      "metadata": {
        "colab": {
          "base_uri": "https://localhost:8080/",
          "height": 163
        },
        "id": "XaoMC6x973xl",
        "outputId": "e2dc352c-fcd1-4f75-e675-f7314f0a09c5"
      },
      "source": [
        "name.insert(2,'t')         #we can't insert in a string object"
      ],
      "execution_count": null,
      "outputs": [
        {
          "output_type": "error",
          "ename": "AttributeError",
          "evalue": "ignored",
          "traceback": [
            "\u001b[0;31m---------------------------------------------------------------------------\u001b[0m",
            "\u001b[0;31mAttributeError\u001b[0m                            Traceback (most recent call last)",
            "\u001b[0;32m<ipython-input-17-abcb015c5549>\u001b[0m in \u001b[0;36m<module>\u001b[0;34m()\u001b[0m\n\u001b[0;32m----> 1\u001b[0;31m \u001b[0mname\u001b[0m\u001b[0;34m.\u001b[0m\u001b[0minsert\u001b[0m\u001b[0;34m(\u001b[0m\u001b[0;36m2\u001b[0m\u001b[0;34m,\u001b[0m\u001b[0;34m't'\u001b[0m\u001b[0;34m)\u001b[0m\u001b[0;34m\u001b[0m\u001b[0;34m\u001b[0m\u001b[0m\n\u001b[0m",
            "\u001b[0;31mAttributeError\u001b[0m: 'str' object has no attribute 'insert'"
          ]
        }
      ]
    },
    {
      "cell_type": "code",
      "metadata": {
        "colab": {
          "base_uri": "https://localhost:8080/"
        },
        "id": "oaYd_pe38ANC",
        "outputId": "2d513833-1f90-4616-bf2a-0109f2c886a8"
      },
      "source": [
        "parts = name.split(' ')            #used to split the words on a given condition\n",
        "parts"
      ],
      "execution_count": null,
      "outputs": [
        {
          "output_type": "execute_result",
          "data": {
            "text/plain": [
              "['Raushan', 'Kumar']"
            ]
          },
          "metadata": {
            "tags": []
          },
          "execution_count": 18
        }
      ]
    },
    {
      "cell_type": "code",
      "metadata": {
        "colab": {
          "base_uri": "https://localhost:8080/",
          "height": 35
        },
        "id": "4ia4XAj48QVc",
        "outputId": "377d10f2-22ea-44db-94d7-5822befd32ff"
      },
      "source": [
        "parts[1].lower()[::-1]         #used to reverse a string, also using chaining here"
      ],
      "execution_count": null,
      "outputs": [
        {
          "output_type": "execute_result",
          "data": {
            "application/vnd.google.colaboratory.intrinsic+json": {
              "type": "string"
            },
            "text/plain": [
              "'ramuk'"
            ]
          },
          "metadata": {
            "tags": []
          },
          "execution_count": 23
        }
      ]
    },
    {
      "cell_type": "markdown",
      "metadata": {
        "id": "xTL76fxS-D9k"
      },
      "source": [
        "### **List**"
      ]
    },
    {
      "cell_type": "code",
      "metadata": {
        "colab": {
          "base_uri": "https://localhost:8080/"
        },
        "id": "45gWS8ei83hp",
        "outputId": "cd2c59fa-ebad-4fd2-9ab1-95cb4b39a99d"
      },
      "source": [
        "mylist = [10,12,'Ram', 'Shyam', 12, 'Mohan', 34]\n",
        "mylist"
      ],
      "execution_count": null,
      "outputs": [
        {
          "output_type": "execute_result",
          "data": {
            "text/plain": [
              "[10, 12, 'Ram', 'Shyam', 12, 'Mohan', 34]"
            ]
          },
          "metadata": {
            "tags": []
          },
          "execution_count": 25
        }
      ]
    },
    {
      "cell_type": "code",
      "metadata": {
        "colab": {
          "base_uri": "https://localhost:8080/"
        },
        "id": "DZdhzvnv8usw",
        "outputId": "6410486d-d815-43a2-b64e-90b6026cc95c"
      },
      "source": [
        "print(mylist[2:5], mylist[-2], mylist[-2:-5:-1])"
      ],
      "execution_count": null,
      "outputs": [
        {
          "output_type": "stream",
          "text": [
            "['Ram', 'Shyam', 12] Mohan ['Mohan', 12, 'Shyam']\n"
          ],
          "name": "stdout"
        }
      ]
    },
    {
      "cell_type": "code",
      "metadata": {
        "colab": {
          "base_uri": "https://localhost:8080/"
        },
        "id": "TJZE5hA7_yxc",
        "outputId": "da13f827-0d3d-4218-ea34-b68f3675faf9"
      },
      "source": [
        "mylist[0] = 23\n",
        "mylist"
      ],
      "execution_count": null,
      "outputs": [
        {
          "output_type": "execute_result",
          "data": {
            "text/plain": [
              "[23, 12, 'Ram', 'Shyam', 12, 'Mohan', 34]"
            ]
          },
          "metadata": {
            "tags": []
          },
          "execution_count": 27
        }
      ]
    },
    {
      "cell_type": "code",
      "metadata": {
        "colab": {
          "base_uri": "https://localhost:8080/"
        },
        "id": "bD4Y1cmfAXrr",
        "outputId": "6b72b4d4-fdd9-4b8f-ca7f-b32a40ef4f07"
      },
      "source": [
        "mylist.append('Ram')\n",
        "mylist.insert(0,'Mohan')\n",
        "mylist"
      ],
      "execution_count": null,
      "outputs": [
        {
          "output_type": "execute_result",
          "data": {
            "text/plain": [
              "['Mohan', 23, 12, 'Ram', 'Shyam', 12, 'Mohan', 34, 'Ram']"
            ]
          },
          "metadata": {
            "tags": []
          },
          "execution_count": 28
        }
      ]
    },
    {
      "cell_type": "code",
      "metadata": {
        "colab": {
          "base_uri": "https://localhost:8080/"
        },
        "id": "ySgQLdobA7dl",
        "outputId": "a4336021-0ad7-4295-bb80-563a67a1abe2"
      },
      "source": [
        "mylist.extend([34,56,67])\n",
        "mylist"
      ],
      "execution_count": null,
      "outputs": [
        {
          "output_type": "execute_result",
          "data": {
            "text/plain": [
              "['Mohan', 23, 12, 'Ram', 'Shyam', 12, 'Mohan', 34, 'Ram', 34, 56, 67]"
            ]
          },
          "metadata": {
            "tags": []
          },
          "execution_count": 29
        }
      ]
    },
    {
      "cell_type": "code",
      "metadata": {
        "colab": {
          "base_uri": "https://localhost:8080/"
        },
        "id": "GsTjV-L0Bm3L",
        "outputId": "5dd5b916-e691-47dd-dd25-35d044d6a2b5"
      },
      "source": [
        "mylist.reverse()\n",
        "mylist"
      ],
      "execution_count": null,
      "outputs": [
        {
          "output_type": "execute_result",
          "data": {
            "text/plain": [
              "[67, 56, 34, 'Ram', 34, 'Mohan', 12, 'Shyam', 'Ram', 12, 23, 'Mohan']"
            ]
          },
          "metadata": {
            "tags": []
          },
          "execution_count": 30
        }
      ]
    },
    {
      "cell_type": "markdown",
      "metadata": {
        "id": "4JKmuk2RBsP_"
      },
      "source": [
        "### **Dictionary**"
      ]
    },
    {
      "cell_type": "code",
      "metadata": {
        "id": "d6xglAsGB_LJ",
        "colab": {
          "base_uri": "https://localhost:8080/"
        },
        "outputId": "99cd934d-02f7-4ca7-c4ce-7515d96cc077"
      },
      "source": [
        "mydict = {'1':'1', 'name':'Raushan', 'age':20}\n",
        "mydict"
      ],
      "execution_count": null,
      "outputs": [
        {
          "output_type": "execute_result",
          "data": {
            "text/plain": [
              "{'1': '1', 'age': 20, 'name': 'Raushan'}"
            ]
          },
          "metadata": {
            "tags": []
          },
          "execution_count": 1
        }
      ]
    },
    {
      "cell_type": "code",
      "metadata": {
        "colab": {
          "base_uri": "https://localhost:8080/",
          "height": 35
        },
        "id": "_dKGjtBvh3lk",
        "outputId": "cbca9b9c-aa61-4901-b977-8d94eeaf187e"
      },
      "source": [
        "mydict['name']"
      ],
      "execution_count": null,
      "outputs": [
        {
          "output_type": "execute_result",
          "data": {
            "application/vnd.google.colaboratory.intrinsic+json": {
              "type": "string"
            },
            "text/plain": [
              "'Raushan'"
            ]
          },
          "metadata": {
            "tags": []
          },
          "execution_count": 3
        }
      ]
    },
    {
      "cell_type": "code",
      "metadata": {
        "colab": {
          "base_uri": "https://localhost:8080/",
          "height": 35
        },
        "id": "j0mqAMskh8Nn",
        "outputId": "ebc7fcac-3288-4a0c-c7b8-77fb6e40a8fe"
      },
      "source": [
        "mydict.get('name')          #we can use get function to accesss the elements"
      ],
      "execution_count": null,
      "outputs": [
        {
          "output_type": "execute_result",
          "data": {
            "application/vnd.google.colaboratory.intrinsic+json": {
              "type": "string"
            },
            "text/plain": [
              "'Raushan'"
            ]
          },
          "metadata": {
            "tags": []
          },
          "execution_count": 4
        }
      ]
    },
    {
      "cell_type": "code",
      "metadata": {
        "colab": {
          "base_uri": "https://localhost:8080/"
        },
        "id": "fEVh9At8iIUU",
        "outputId": "62caaf9c-d122-46b9-ef24-350dd035b25b"
      },
      "source": [
        "mydict['course'] = 'B.tech(cse)'\n",
        "mydict['age'] = 21            #dictionary is mutable\n",
        "mydict"
      ],
      "execution_count": null,
      "outputs": [
        {
          "output_type": "execute_result",
          "data": {
            "text/plain": [
              "{'1': '1', 'age': 21, 'course': 'B.tech(cse)', 'name': 'Raushan'}"
            ]
          },
          "metadata": {
            "tags": []
          },
          "execution_count": 8
        }
      ]
    },
    {
      "cell_type": "code",
      "metadata": {
        "colab": {
          "base_uri": "https://localhost:8080/"
        },
        "id": "hD8j7DbiinrG",
        "outputId": "a37b1e75-5dee-4ffa-ac5a-a42249fd23b9"
      },
      "source": [
        "mydict.keys()                  #used to get the keys"
      ],
      "execution_count": null,
      "outputs": [
        {
          "output_type": "execute_result",
          "data": {
            "text/plain": [
              "dict_keys(['1', 'name', 'age', 'course'])"
            ]
          },
          "metadata": {
            "tags": []
          },
          "execution_count": 9
        }
      ]
    },
    {
      "cell_type": "code",
      "metadata": {
        "colab": {
          "base_uri": "https://localhost:8080/"
        },
        "id": "zyxzFlXniv2c",
        "outputId": "44dc34ea-1c55-437e-e78a-b32ee3b372fc"
      },
      "source": [
        "mydict.values()                  #used to get the values"
      ],
      "execution_count": null,
      "outputs": [
        {
          "output_type": "execute_result",
          "data": {
            "text/plain": [
              "dict_values(['1', 'Raushan', 21, 'B.tech(cse)'])"
            ]
          },
          "metadata": {
            "tags": []
          },
          "execution_count": 10
        }
      ]
    },
    {
      "cell_type": "code",
      "metadata": {
        "colab": {
          "base_uri": "https://localhost:8080/",
          "height": 35
        },
        "id": "qpuOR_hui0s_",
        "outputId": "96cadd4c-c96e-4724-9093-e334fc75197a"
      },
      "source": [
        "mydict.pop('1')            #it pops the given key-value pair and also return the value"
      ],
      "execution_count": null,
      "outputs": [
        {
          "output_type": "execute_result",
          "data": {
            "application/vnd.google.colaboratory.intrinsic+json": {
              "type": "string"
            },
            "text/plain": [
              "'1'"
            ]
          },
          "metadata": {
            "tags": []
          },
          "execution_count": 12
        }
      ]
    },
    {
      "cell_type": "markdown",
      "metadata": {
        "id": "dWa9JgUDjIiP"
      },
      "source": [
        "### **Tuple**"
      ]
    },
    {
      "cell_type": "code",
      "metadata": {
        "colab": {
          "base_uri": "https://localhost:8080/"
        },
        "id": "hkl_ZtwNjMBx",
        "outputId": "72a3124d-eb65-4acc-b89b-c8d6d90e5684"
      },
      "source": [
        "mytuple = (1,76,'Ram', True, 'Mohan', 56, 76)\n",
        "mytuple"
      ],
      "execution_count": null,
      "outputs": [
        {
          "output_type": "execute_result",
          "data": {
            "text/plain": [
              "(1, 76, 'Ram', True, 'Mohan', 56, 76)"
            ]
          },
          "metadata": {
            "tags": []
          },
          "execution_count": 17
        }
      ]
    },
    {
      "cell_type": "code",
      "metadata": {
        "colab": {
          "base_uri": "https://localhost:8080/",
          "height": 163
        },
        "id": "xQI2mcrejdws",
        "outputId": "3b678f15-3518-4781-9720-2f0b62d3b5be"
      },
      "source": [
        "mytuple.insert(45)              #we cannot insert value later in a tuple, and it is also immutable"
      ],
      "execution_count": null,
      "outputs": [
        {
          "output_type": "error",
          "ename": "AttributeError",
          "evalue": "ignored",
          "traceback": [
            "\u001b[0;31m---------------------------------------------------------------------------\u001b[0m",
            "\u001b[0;31mAttributeError\u001b[0m                            Traceback (most recent call last)",
            "\u001b[0;32m<ipython-input-14-251544d2dcb1>\u001b[0m in \u001b[0;36m<module>\u001b[0;34m()\u001b[0m\n\u001b[0;32m----> 1\u001b[0;31m \u001b[0mmytuple\u001b[0m\u001b[0;34m.\u001b[0m\u001b[0minsert\u001b[0m\u001b[0;34m(\u001b[0m\u001b[0;36m45\u001b[0m\u001b[0;34m)\u001b[0m\u001b[0;34m\u001b[0m\u001b[0;34m\u001b[0m\u001b[0m\n\u001b[0m",
            "\u001b[0;31mAttributeError\u001b[0m: 'tuple' object has no attribute 'insert'"
          ]
        }
      ]
    },
    {
      "cell_type": "code",
      "metadata": {
        "colab": {
          "base_uri": "https://localhost:8080/"
        },
        "id": "i8sfvSZmkPBn",
        "outputId": "8e37533e-8ee2-46d5-da6e-032c48490299"
      },
      "source": [
        "templist = list(mytuple)        #to insert value, we need to typecast it into a list, then insert and again typecast to tuple\n",
        "templist.append(67)\n",
        "mytuple = tuple(templist)\n",
        "mytuple"
      ],
      "execution_count": null,
      "outputs": [
        {
          "output_type": "execute_result",
          "data": {
            "text/plain": [
              "(1, 76, 'Ram', True, 'Mohan', 56, 76, 67)"
            ]
          },
          "metadata": {
            "tags": []
          },
          "execution_count": 21
        }
      ]
    },
    {
      "cell_type": "code",
      "metadata": {
        "colab": {
          "base_uri": "https://localhost:8080/"
        },
        "id": "ca9-QZcGjpAZ",
        "outputId": "3737e755-d292-4604-db22-84714cb2e07c"
      },
      "source": [
        "print(mytuple[0],mytuple[1:5])            #we can do slicing using index and also access"
      ],
      "execution_count": null,
      "outputs": [
        {
          "output_type": "stream",
          "text": [
            "1 (76, 'Ram', True, 'Mohan')\n"
          ],
          "name": "stdout"
        }
      ]
    },
    {
      "cell_type": "code",
      "metadata": {
        "colab": {
          "base_uri": "https://localhost:8080/"
        },
        "id": "DkNsCfvjkA3G",
        "outputId": "d4399822-3a03-4693-acf1-57c15cade577"
      },
      "source": [
        "mytuple.count(76)               #return the occurence of a given element"
      ],
      "execution_count": null,
      "outputs": [
        {
          "output_type": "execute_result",
          "data": {
            "text/plain": [
              "2"
            ]
          },
          "metadata": {
            "tags": []
          },
          "execution_count": 18
        }
      ]
    },
    {
      "cell_type": "code",
      "metadata": {
        "colab": {
          "base_uri": "https://localhost:8080/"
        },
        "id": "1VWkT5glk3Ji",
        "outputId": "f227dd76-d70d-4fe4-8564-32b7092a0ed7"
      },
      "source": [
        "mytuple.index(76)           #return the index of first occurence"
      ],
      "execution_count": null,
      "outputs": [
        {
          "output_type": "execute_result",
          "data": {
            "text/plain": [
              "1"
            ]
          },
          "metadata": {
            "tags": []
          },
          "execution_count": 23
        }
      ]
    },
    {
      "cell_type": "markdown",
      "metadata": {
        "id": "sIuKEQYFkv4b"
      },
      "source": [
        "### **Set**"
      ]
    },
    {
      "cell_type": "code",
      "metadata": {
        "colab": {
          "base_uri": "https://localhost:8080/"
        },
        "id": "9IK2J5cElK-w",
        "outputId": "96b34bd4-21c3-4cbc-f613-da036edd1839"
      },
      "source": [
        "myset = {12,46,57,'Ram', 'mohan', 57, 'Ram'}          #set does not hold duplicate items\n",
        "myset"
      ],
      "execution_count": null,
      "outputs": [
        {
          "output_type": "execute_result",
          "data": {
            "text/plain": [
              "{12, 46, 57, 'Ram', 'mohan'}"
            ]
          },
          "metadata": {
            "tags": []
          },
          "execution_count": 24
        }
      ]
    },
    {
      "cell_type": "code",
      "metadata": {
        "colab": {
          "base_uri": "https://localhost:8080/",
          "height": 163
        },
        "id": "elFUiQ5Ymn_d",
        "outputId": "6afbeed7-ad87-47bb-8850-00e1a2928e2b"
      },
      "source": [
        "myset[2]           #set doesn't support indexing"
      ],
      "execution_count": null,
      "outputs": [
        {
          "output_type": "error",
          "ename": "TypeError",
          "evalue": "ignored",
          "traceback": [
            "\u001b[0;31m---------------------------------------------------------------------------\u001b[0m",
            "\u001b[0;31mTypeError\u001b[0m                                 Traceback (most recent call last)",
            "\u001b[0;32m<ipython-input-25-58dc78bab389>\u001b[0m in \u001b[0;36m<module>\u001b[0;34m()\u001b[0m\n\u001b[0;32m----> 1\u001b[0;31m \u001b[0mmyset\u001b[0m\u001b[0;34m[\u001b[0m\u001b[0;36m2\u001b[0m\u001b[0;34m]\u001b[0m             \u001b[0;31m#set doesn't support indexing\u001b[0m\u001b[0;34m\u001b[0m\u001b[0;34m\u001b[0m\u001b[0m\n\u001b[0m",
            "\u001b[0;31mTypeError\u001b[0m: 'set' object is not subscriptable"
          ]
        }
      ]
    },
    {
      "cell_type": "code",
      "metadata": {
        "colab": {
          "base_uri": "https://localhost:8080/"
        },
        "id": "bOyQPczvnArs",
        "outputId": "b005bf04-d578-495a-db28-97e1e12ab9d3"
      },
      "source": [
        "myset.pop()           #pops and returns the last element"
      ],
      "execution_count": null,
      "outputs": [
        {
          "output_type": "execute_result",
          "data": {
            "text/plain": [
              "12"
            ]
          },
          "metadata": {
            "tags": []
          },
          "execution_count": 26
        }
      ]
    },
    {
      "cell_type": "markdown",
      "metadata": {
        "id": "gxm24t6CnaWb"
      },
      "source": [
        "## **Range** - is used to iterate through the elements"
      ]
    },
    {
      "cell_type": "code",
      "metadata": {
        "colab": {
          "base_uri": "https://localhost:8080/"
        },
        "id": "jmqnjI6Ao4rM",
        "outputId": "f8f35451-1b5b-4d6e-9702-45e280308f48"
      },
      "source": [
        "range(0,10)        #it iterates from starting index to last index-1"
      ],
      "execution_count": null,
      "outputs": [
        {
          "output_type": "execute_result",
          "data": {
            "text/plain": [
              "range(0, 10)"
            ]
          },
          "metadata": {
            "tags": []
          },
          "execution_count": 27
        }
      ]
    },
    {
      "cell_type": "code",
      "metadata": {
        "colab": {
          "base_uri": "https://localhost:8080/"
        },
        "id": "Fn6DIG5hpFA2",
        "outputId": "4953a37c-c0af-4b9a-ae09-4e1342eea8a4"
      },
      "source": [
        "list(range(0,10))"
      ],
      "execution_count": null,
      "outputs": [
        {
          "output_type": "execute_result",
          "data": {
            "text/plain": [
              "[0, 1, 2, 3, 4, 5, 6, 7, 8, 9]"
            ]
          },
          "metadata": {
            "tags": []
          },
          "execution_count": 28
        }
      ]
    },
    {
      "cell_type": "markdown",
      "metadata": {
        "id": "Sf-LzZ3tpVq6"
      },
      "source": [
        "## We can create a list consisting other data types objects"
      ]
    },
    {
      "cell_type": "code",
      "metadata": {
        "colab": {
          "base_uri": "https://localhost:8080/"
        },
        "id": "gcO7Fd8Npfg1",
        "outputId": "e049ef49-be64-482f-e0a5-52c915c2945d"
      },
      "source": [
        "a = (12,3,45,'Ram')\n",
        "b = {'1':'Ram', '2': 'Mohan'}\n",
        "c = [a,b]\n",
        "c     #c is list consisting of tuple and dictionary objects"
      ],
      "execution_count": null,
      "outputs": [
        {
          "output_type": "execute_result",
          "data": {
            "text/plain": [
              "[(12, 3, 45, 'Ram'), {'1': 'Ram', '2': 'Mohan'}]"
            ]
          },
          "metadata": {
            "tags": []
          },
          "execution_count": 32
        }
      ]
    },
    {
      "cell_type": "markdown",
      "metadata": {
        "id": "eh2e0qqoquI7"
      },
      "source": [
        "## **TypeCasting**\n",
        "Int() : Int() function take float or string as an argument and return int type object. <br>\n",
        "Float() : float() function take int or string as an argument and return float type object. <br>\n",
        "Str() : str() function take float or int as an argument and return string type object. <br>\n",
        "List() : This function change any data type to list <br>\n",
        "Tuple() : This function change any data type to tuple <br>\n",
        "Set() : This function change any data type to set <br>\n",
        "Dict() : This function change any data type to dictionary"
      ]
    },
    {
      "cell_type": "code",
      "metadata": {
        "colab": {
          "base_uri": "https://localhost:8080/",
          "height": 197
        },
        "id": "x4Mp7rYZrjbR",
        "outputId": "62af3069-1421-432f-88ce-9e18820ed3e2"
      },
      "source": [
        "x = 10\n",
        "y = 'Ram'\n",
        "x+y"
      ],
      "execution_count": null,
      "outputs": [
        {
          "output_type": "error",
          "ename": "TypeError",
          "evalue": "ignored",
          "traceback": [
            "\u001b[0;31m---------------------------------------------------------------------------\u001b[0m",
            "\u001b[0;31mTypeError\u001b[0m                                 Traceback (most recent call last)",
            "\u001b[0;32m<ipython-input-33-3b02ce7145b8>\u001b[0m in \u001b[0;36m<module>\u001b[0;34m()\u001b[0m\n\u001b[1;32m      1\u001b[0m \u001b[0mx\u001b[0m \u001b[0;34m=\u001b[0m \u001b[0;36m10\u001b[0m\u001b[0;34m\u001b[0m\u001b[0;34m\u001b[0m\u001b[0m\n\u001b[1;32m      2\u001b[0m \u001b[0my\u001b[0m \u001b[0;34m=\u001b[0m \u001b[0;34m'Ram'\u001b[0m\u001b[0;34m\u001b[0m\u001b[0;34m\u001b[0m\u001b[0m\n\u001b[0;32m----> 3\u001b[0;31m \u001b[0mx\u001b[0m\u001b[0;34m+\u001b[0m\u001b[0my\u001b[0m\u001b[0;34m\u001b[0m\u001b[0;34m\u001b[0m\u001b[0m\n\u001b[0m",
            "\u001b[0;31mTypeError\u001b[0m: unsupported operand type(s) for +: 'int' and 'str'"
          ]
        }
      ]
    },
    {
      "cell_type": "code",
      "metadata": {
        "colab": {
          "base_uri": "https://localhost:8080/",
          "height": 35
        },
        "id": "DDbIrhLnrtc2",
        "outputId": "37149d62-e34e-42f4-b4af-11f0ac3317f1"
      },
      "source": [
        "# here we neeed type casting to add diffeerent data types objects\n",
        "y+str(x)"
      ],
      "execution_count": null,
      "outputs": [
        {
          "output_type": "execute_result",
          "data": {
            "application/vnd.google.colaboratory.intrinsic+json": {
              "type": "string"
            },
            "text/plain": [
              "'Ram10'"
            ]
          },
          "metadata": {
            "tags": []
          },
          "execution_count": 35
        }
      ]
    }
  ]
}